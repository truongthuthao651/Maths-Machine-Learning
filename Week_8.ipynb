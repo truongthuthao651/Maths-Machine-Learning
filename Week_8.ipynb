{
  "nbformat": 4,
  "nbformat_minor": 0,
  "metadata": {
    "colab": {
      "name": "Decision Tree.ipynb",
      "provenance": [],
      "collapsed_sections": []
    },
    "kernelspec": {
      "name": "python3",
      "display_name": "Python 3"
    },
    "language_info": {
      "name": "python"
    }
  },
  "cells": [
    {
      "cell_type": "code",
      "metadata": {
        "id": "LUQtcXSp-h7H"
      },
      "source": [
        "import numpy as np\n",
        "import matplotlib.pyplot as plt\n",
        "\n",
        "from shapely.geometry import LineString, Polygon, Point\n",
        "from shapely.ops import split\n",
        "\n",
        "data = np.genfromtxt('https://raw.githubusercontent.com/nttuan8/DL_Tutorial/master/L2/dataset.csv',\n",
        "                     delimiter=',', skip_header=1, encoding='utf-8')"
      ],
      "execution_count": 129,
      "outputs": []
    },
    {
      "cell_type": "code",
      "metadata": {
        "id": "khvVN5QRO-eP"
      },
      "source": [
        "class Node:\n",
        "    def __init__(self, var, threshold, gini_score, parent, lchild, rchild):\n",
        "        self.var = var\n",
        "        self.threshold = threshold\n",
        "        self.threshold_var = f'var_{var} > {threshold}'\n",
        "        self.gini_score = gini_score\n",
        "\n",
        "        self._parent = parent\n",
        "        self._lchild = lchild\n",
        "        self._rchild = rchild\n",
        "\n",
        "        self.class_name = None\n",
        "\n",
        "    def __str__(self):\n",
        "        return self.threshold_var\n",
        "\n",
        "    def __bool__(self):\n",
        "        return self.var is not None\n",
        "\n",
        "    def is_leaf(self):\n",
        "        return self._lchild is None and self._rchild is None\n",
        "\n",
        "    def add_class(self, class_name):\n",
        "        self.class_name = class_name\n",
        "\n",
        "\n",
        "class BinaryTree:\n",
        "\n",
        "    def __init__(self):\n",
        "        self.root = None\n",
        "        self.size = 0\n",
        "        self.longest_path = []\n",
        "\n",
        "    def add_root(self, element):\n",
        "        if self.root:\n",
        "            return self.root\n",
        "        self.root = Node(element, None, None, None)\n",
        "        self.size += 1\n",
        "        return self.root\n",
        "\n",
        "    def get_height(self, node):\n",
        "        if not node or node.is_leaf():\n",
        "            return 0\n",
        "        return 1 + max(self.get_height(node._lchild), self.get_height(node._rchild))\n",
        "\n",
        "    def get_depth(self, node):\n",
        "        if not node._parent:\n",
        "            return 0\n",
        "        return 1 + self.get_depth(node._parent)\n",
        "\n",
        "    def add_left_child(self, parent, element):\n",
        "        if not parent._lchild:\n",
        "            new = Node(element, parent, None, None)\n",
        "            parent._lchild = new\n",
        "            self.size += 1\n",
        "            return new\n",
        "\n",
        "    def add_right_child(self, parent, element):\n",
        "        if not parent._rchild:\n",
        "            new = Node(element, parent, None, None)\n",
        "            parent._rchild = new\n",
        "            self.size += 1\n",
        "            return new\n",
        "\n",
        "    def printTree(self, root, level=0):\n",
        "        if root != None:\n",
        "            self.printTree(root._lchild, level + 1)\n",
        "            if root.is_leaf():\n",
        "                print(' ' * 4 * level + '->', root.class_name)\n",
        "            else:\n",
        "                print(' ' * 4 * level + '->', root.threshold_var)\n",
        "            self.printTree(root._rchild, level + 1)"
      ],
      "execution_count": 130,
      "outputs": []
    },
    {
      "cell_type": "code",
      "metadata": {
        "id": "Ax7xvfIDPOcz"
      },
      "source": [
        "class DecisionTree:\n",
        "    stop_tol = 1e-2\n",
        "\n",
        "    def __init__(self):\n",
        "        self.tree = BinaryTree()\n",
        "\n",
        "    def calculate_gini(self, y):\n",
        "        unique, counts = np.unique(y, return_counts=True)\n",
        "        return 1 - sum((arg / sum(counts)) ** 2 for arg in counts)\n",
        "\n",
        "    def get_threshold_element(self, gini_parent_score, X, y):\n",
        "        n = data.shape[0]\n",
        "        result = {}\n",
        "        threshold = {}\n",
        "\n",
        "        for var in range(X.shape[1]):\n",
        "            sorted = np.unique(np.sort(X[:, var]))\n",
        "            for r in np.convolve(sorted, np.ones(2), 'valid') / 2:\n",
        "                positive_y = y[X[:, var] > r]\n",
        "                gini_pos = self.calculate_gini(positive_y)\n",
        "\n",
        "                negative_y = y[X[:, var] <= r]\n",
        "                gini_neg = self.calculate_gini(negative_y)\n",
        "\n",
        "                gini_score = len(positive_y) * gini_pos / n + len(negative_y) * gini_neg / n\n",
        "                result[f'var_{var} > {r}'] = gini_parent_score - gini_score\n",
        "                threshold[f'var_{var} > {r}'] = {'var': var, 'threshold': r, 'gini_score': gini_score}\n",
        "\n",
        "        max_threshold = max(result, key=result.get)\n",
        "        if result[max_threshold] > self.stop_tol:\n",
        "            return (threshold[max_threshold]['var'],\n",
        "                    threshold[max_threshold]['threshold'],\n",
        "                    threshold[max_threshold]['gini_score'])\n",
        "        return None, None, None\n",
        "\n",
        "    def add_root(self, X, y):\n",
        "        if self.tree.root:\n",
        "            return self.tree.root\n",
        "        var, threshold, gini_score = self.get_threshold_element(1, X, y)\n",
        "        self.tree.root = Node(var, threshold, gini_score, None, None, None)\n",
        "        self.tree.size += 1\n",
        "\n",
        "    def add_node(self, parent, position, X, y):\n",
        "        '''\n",
        "        parent: The parent node\n",
        "        element: The new element to be added\n",
        "        postion: left or right\n",
        "        X, y: training data\n",
        "        '''\n",
        "        var, threshold, gini_score = self.get_threshold_element(parent.gini_score, X, y)\n",
        "        new_node = Node(var, threshold, gini_score,\n",
        "                        parent, None, None)\n",
        "\n",
        "        if var is None:\n",
        "            counts = np.bincount(y)\n",
        "            new_node.add_class(np.argmax(counts))\n",
        "\n",
        "        if position == 'left':\n",
        "            parent._lchild = new_node\n",
        "        if position == 'right':\n",
        "            parent._rchild = new_node\n",
        "\n",
        "        if new_node:\n",
        "            self.tree.size += 1\n",
        "            self.add_node(new_node, 'left',\n",
        "                          X[X[:, new_node.var] > new_node.threshold],\n",
        "                          y[X[:, new_node.var] > new_node.threshold])\n",
        "\n",
        "            self.add_node(new_node, 'right',\n",
        "                          X[X[:, new_node.var] <= new_node.threshold],\n",
        "                          y[X[:, new_node.var] <= new_node.threshold])\n",
        "        else:\n",
        "            return\n",
        "\n",
        "    def train(self, X, y):\n",
        "        self.add_root(X, y)\n",
        "\n",
        "        self.add_node(self.tree.root, 'left',\n",
        "                      X[X[:, self.tree.root.var] > self.tree.root.threshold],\n",
        "                      y[X[:, self.tree.root.var] > self.tree.root.threshold])\n",
        "\n",
        "        self.add_node(x.tree.root, 'right',\n",
        "                      X[X[:, self.tree.root.var] <= self.tree.root.threshold],\n",
        "                      y[X[:, self.tree.root.var] <= self.tree.root.threshold])\n",
        "\n",
        "    def predict_one(self, x):\n",
        "      current_node = self.tree.root\n",
        "      while current_node.class_name is None:\n",
        "        if x[current_node.var] > current_node.threshold:\n",
        "          current_node = current_node._lchild\n",
        "        else:\n",
        "          current_node = current_node._rchild\n",
        "      return current_node.class_name\n",
        "\n",
        "    def predict(self, X):\n",
        "      return np.array(list(map(self.predict_one, X)))"
      ],
      "execution_count": 131,
      "outputs": []
    },
    {
      "cell_type": "code",
      "metadata": {
        "id": "K2Lf-hTAPO3p"
      },
      "source": [
        "class TreeDraw:\n",
        "    color = ['b', 'r', 'g', 'c', 'm', 'y', 'k', 'w']\n",
        "\n",
        "    def __init__(self, min_x, max_x, min_y, max_y):\n",
        "        self.left_top = (min_x, max_y)\n",
        "        self.right_top = (max_x, max_y)\n",
        "        self.left_bottom = (min_x, min_y)\n",
        "        self.right_bottom = (max_x, min_y)\n",
        "\n",
        "        self.min_x = min_x\n",
        "        self.min_y = min_y\n",
        "        self.max_x = max_x\n",
        "        self.max_y = max_y\n",
        "\n",
        "        self.plane = Polygon((self.left_top, self.right_top,\n",
        "                              self.right_bottom, self.left_bottom))\n",
        "\n",
        "        self.plot = plt.figure()\n",
        "\n",
        "    def add_data(self, X, y):\n",
        "        self.X = X\n",
        "        self.y = y\n",
        "        self.color_dict = {y_value: color for y_value, color in zip(np.unique(y), self.color)}\n",
        "\n",
        "        for y_value, color in self.color_dict.items():\n",
        "            plt.scatter(X[y == y_value, 0], X[y == y_value, 1], c=color)\n",
        "\n",
        "    def split_polygons(self, right_point, plane, line):\n",
        "        polygons = split(plane, line)\n",
        "        if polygons[0].contains(right_point):\n",
        "            return polygons[0], polygons[1]\n",
        "        else:\n",
        "            return polygons[1], polygons[0]\n",
        "\n",
        "    def draw(self, root, plane=None, data=None):\n",
        "        if plane is None:\n",
        "            plane = self.plane\n",
        "\n",
        "        if root.is_leaf():\n",
        "            x, y = plane.exterior.xy\n",
        "            plt.fill(x, y, alpha=0.2, c=self.color_dict[root.class_name])\n",
        "            return\n",
        "        else:\n",
        "            right_point=Point(data[data[:,root.var] <= root.threshold, 0][0],\n",
        "                              data[data[:,root.var] <= root.threshold, 1][0])\n",
        "            if root.var == 0:\n",
        "              right_plane, left_plane = self.split_polygons(right_point, \n",
        "                                           plane, \n",
        "                                           LineString(((root.threshold, self.min_y),\n",
        "                                                (root.threshold, self.max_y))))\n",
        "      \n",
        "            if root.var == 1:\n",
        "              right_plane, left_plane = self.split_polygons(right_point, \n",
        "                                           plane, LineString(((self.min_x, root.threshold),\n",
        "                                          (self.max_x, root.threshold))))\n",
        "\n",
        "            self.draw(root._rchild, right_plane, X)\n",
        "            self.draw(root._lchild, left_plane, X)\n"
      ],
      "execution_count": 132,
      "outputs": []
    },
    {
      "cell_type": "code",
      "metadata": {
        "colab": {
          "base_uri": "https://localhost:8080/"
        },
        "id": "zbNsmzobPUAp",
        "outputId": "b8fa3b0d-41b8-44e7-b24f-6826ea3f96e3"
      },
      "source": [
        "X = data[:,:2]\n",
        "y = data[:,2].astype('int')\n",
        "x=DecisionTree()\n",
        "x.train(X, y)\n",
        "x.predict(X)"
      ],
      "execution_count": 133,
      "outputs": [
        {
          "output_type": "execute_result",
          "data": {
            "text/plain": [
              "array([1, 1, 1, 1, 1, 1, 1, 1, 1, 1, 0, 0, 0, 0, 0, 0, 0, 0, 0, 0])"
            ]
          },
          "metadata": {},
          "execution_count": 133
        }
      ]
    },
    {
      "cell_type": "code",
      "metadata": {
        "colab": {
          "base_uri": "https://localhost:8080/",
          "height": 337
        },
        "id": "cTQkPcISQXCN",
        "outputId": "56d9b2a3-bcc8-4e0b-a4b7-791c0befcc6d"
      },
      "source": [
        "t=TreeDraw(2, 11, 0, 4)\n",
        "t.add_data(X, y)\n",
        "t.draw(x.tree.root, data=X)\n",
        "t.plot.show()"
      ],
      "execution_count": 121,
      "outputs": [
        {
          "output_type": "stream",
          "name": "stderr",
          "text": [
            "/usr/local/lib/python3.7/dist-packages/ipykernel_launcher.py:30: ShapelyDeprecationWarning: __getitem__ for multi-part geometries is deprecated and will be removed in Shapely 2.0. Use the `geoms` property to access the constituent parts of a multi-part geometry.\n",
            "/usr/local/lib/python3.7/dist-packages/ipykernel_launcher.py:33: ShapelyDeprecationWarning: __getitem__ for multi-part geometries is deprecated and will be removed in Shapely 2.0. Use the `geoms` property to access the constituent parts of a multi-part geometry.\n",
            "/usr/local/lib/python3.7/dist-packages/ipykernel_launcher.py:31: ShapelyDeprecationWarning: __getitem__ for multi-part geometries is deprecated and will be removed in Shapely 2.0. Use the `geoms` property to access the constituent parts of a multi-part geometry.\n"
          ]
        },
        {
          "output_type": "display_data",
          "data": {
            "image/png": "[encoded data removed]",
            "text/plain": [
              "<Figure size 432x288 with 1 Axes>"
            ]
          },
          "metadata": {
            "needs_background": "light"
          }
        }
      ]
    }
  ]
}