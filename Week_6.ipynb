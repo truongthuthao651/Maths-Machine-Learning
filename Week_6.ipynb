{
  "nbformat": 4,
  "nbformat_minor": 0,
  "metadata": {
    "colab": {
      "name": "Week 6.ipynb",
      "provenance": []
    },
    "kernelspec": {
      "name": "python3",
      "display_name": "Python 3"
    },
    "language_info": {
      "name": "python"
    }
  },
  "cells": [
    {
      "cell_type": "code",
      "metadata": {
        "id": "lb7fe3kDDirG"
      },
      "source": [
        "### EX2:\n",
        "import numpy as np\n",
        "import matplotlib.pyplot as plt\n",
        "import pandas as pd\n",
        "%matplotlib inline\n",
        "\n",
        "np.random.seed(1234)"
      ],
      "execution_count": 1,
      "outputs": []
    },
    {
      "cell_type": "code",
      "metadata": {
        "colab": {
          "base_uri": "https://localhost:8080/",
          "height": 265
        },
        "id": "jHyGlp9mDtJN",
        "outputId": "c9c657c4-ac5f-445f-ba48-35092f78f3bb"
      },
      "source": [
        "def create_toy_data(func, sample_size, std):\n",
        "    x = np.linspace(0, 1, sample_size)\n",
        "    t = func(x) + np.random.normal(scale=std, size=x.shape)\n",
        "    return x, t\n",
        "\n",
        "def func(x):\n",
        "    return np.sin(2 * np.pi * x)\n",
        "\n",
        "x_train, y_train = create_toy_data(func, 10, 0.25)\n",
        "x_test = np.linspace(0, 1, 100)\n",
        "y_test = func(x_test)\n",
        "\n",
        "x_val, y_val = create_toy_data(func, 10, 0.25)\n",
        "\n",
        "plt.scatter(x_train, y_train, facecolor=\"none\", edgecolor=\"b\", s=50, label=\"training data\")\n",
        "plt.plot(x_test, y_test, c=\"g\", label=\"$\\sin(2\\pi x)$\")\n",
        "plt.legend()\n",
        "plt.show()"
      ],
      "execution_count": 2,
      "outputs": [
        {
          "output_type": "display_data",
          "data": {
            "image/png": "[encoded data removed]",
            "text/plain": [
              "<Figure size 432x288 with 1 Axes>"
            ]
          },
          "metadata": {
            "needs_background": "light"
          }
        }
      ]
    },
    {
      "cell_type": "code",
      "metadata": {
        "colab": {
          "base_uri": "https://localhost:8080/"
        },
        "id": "zh9HJCPcDy4x",
        "outputId": "6450ebde-4d1d-41cc-9938-be41638050a4"
      },
      "source": [
        "print(x_val, y_val)"
      ],
      "execution_count": 3,
      "outputs": [
        {
          "output_type": "stream",
          "name": "stdout",
          "text": [
            "[0.         0.11111111 0.22222222 0.33333333 0.44444444 0.55555556\n",
            " 0.66666667 0.77777778 0.88888889 1.        ] [ 0.28750893  0.89077412  1.22313879  0.3607117   0.2585008  -0.34149055\n",
            " -0.76466205 -0.91253477 -0.31249806 -0.38672639]\n"
          ]
        }
      ]
    },
    {
      "cell_type": "code",
      "metadata": {
        "colab": {
          "base_uri": "https://localhost:8080/",
          "height": 265
        },
        "id": "6q6yuMEWD1XE",
        "outputId": "a149520d-444c-4ebd-926f-d40d44cc71e9"
      },
      "source": [
        "plt.scatter(x_train, y_train, facecolor=\"blue\", edgecolor=\"b\", s=50, label=\"training set\")\n",
        "plt.scatter(x_val, y_val, facecolor=\"red\", edgecolor=\"b\", s=50, label=\"validation set\")\n",
        "plt.legend()\n",
        "plt.show()"
      ],
      "execution_count": 4,
      "outputs": [
        {
          "output_type": "display_data",
          "data": {
            "image/png": "[encoded data removed]",
            "text/plain": [
              "<Figure size 432x288 with 1 Axes>"
            ]
          },
          "metadata": {
            "needs_background": "light"
          }
        }
      ]
    },
    {
      "cell_type": "code",
      "metadata": {
        "id": "jwCCRNXkD4Xg"
      },
      "source": [
        "def concatenate(x):\n",
        "  i = np.ones(len(x)).reshape(-1,1)\n",
        "  x = np.concatenate((i, x.reshape(-1,1)), axis = 1)\n",
        "  return x\n",
        "\n",
        "def cal_w(x, y):\n",
        "  a = np.dot(x.T, x)\n",
        "  b = np.dot(x.T, y)\n",
        "  w = np.dot(np.linalg.pinv(a), b)\n",
        "  return w\n",
        "\n",
        "def cal_mse(y, predict):\n",
        "  return 1/len(y) * np.sum((predict - y)**2)\n",
        "\n",
        "def predict(x, w):\n",
        "  return np.dot(x,w)"
      ],
      "execution_count": 5,
      "outputs": []
    },
    {
      "cell_type": "code",
      "metadata": {
        "colab": {
          "base_uri": "https://localhost:8080/"
        },
        "id": "_5tr4DPtD9Uq",
        "outputId": "f51fcbcd-87dd-4433-87d9-56702ee3bd16"
      },
      "source": [
        "# bac 1\n",
        "X_train_1 = concatenate(x_train)\n",
        "X_val_1 = concatenate(x_val)\n",
        "w_1 = cal_w(X_train_1, y_train)\n",
        "pred_train_1 = predict(X_train_1, w_1)\n",
        "pred_val_1 = predict(X_val_1, w_1)\n",
        "print(\"mse in training set %s \\nmse in validation set %s\" \n",
        "      %(cal_mse(y_train,pred_train_1),\n",
        "        cal_mse(y_val, pred_val_1)))\n",
        "\n",
        "# mse trên tập training và validation đều nhỏ \n",
        "# underfitting"
      ],
      "execution_count": 6,
      "outputs": [
        {
          "output_type": "stream",
          "name": "stdout",
          "text": [
            "mse in training set 0.23077661663788357 \n",
            "mse in validation set 0.18132877322593322\n"
          ]
        }
      ]
    },
    {
      "cell_type": "code",
      "metadata": {
        "colab": {
          "base_uri": "https://localhost:8080/",
          "height": 265
        },
        "id": "BRufpV6UD_52",
        "outputId": "ddd6b03b-09b7-452a-bb91-b16f65af61ff"
      },
      "source": [
        "plt.plot(x_train,pred_train_1)\n",
        "plt.scatter(x_train, y_train, color = 'blue', label = 'training set')\n",
        "plt.scatter(x_val, y_val, color = 'red', label = 'validation set')\n",
        "plt.legend()\n",
        "plt.show()"
      ],
      "execution_count": 7,
      "outputs": [
        {
          "output_type": "display_data",
          "data": {
            "image/png": "[encoded data removed]",
            "text/plain": [
              "<Figure size 432x288 with 1 Axes>"
            ]
          },
          "metadata": {
            "needs_background": "light"
          }
        }
      ]
    },
    {
      "cell_type": "code",
      "metadata": {
        "id": "uYa05y1XED9R"
      },
      "source": [
        "#bac 3 \n",
        "x2 = np.power(x_train, 2).reshape(-1,1)\n",
        "x3 = np.power(x_train, 3).reshape(-1,1)\n",
        "x_3 = np.concatenate((x_train.reshape(-1,1), x2, x3), axis = 1)\n",
        "\n",
        "X_train_3 = np.concatenate((np.ones(len(x_3)).reshape(-1,1),x_3),axis = 1)\n",
        "\n",
        "x2_val = np.power(x_val, 2).reshape(-1,1)\n",
        "x3_val = np.power(x_val, 3).reshape(-1,1)\n",
        "x_3_val = np.concatenate((x_val.reshape(-1,1), x2_val, x3_val), axis = 1)\n",
        "\n",
        "X_val_3 = np.concatenate((np.ones(len(x_3_val)).reshape(-1,1), x_3_val), axis = 1)"
      ],
      "execution_count": 8,
      "outputs": []
    },
    {
      "cell_type": "code",
      "metadata": {
        "colab": {
          "base_uri": "https://localhost:8080/"
        },
        "id": "j0pBeanWEGrC",
        "outputId": "b0c5b9b6-f347-48d2-d961-4b19e032cafb"
      },
      "source": [
        "w_3 = cal_w(X_train_3, y_train)\n",
        "pred_train_3 = predict(X_train_3, w_3)\n",
        "pred_val_3 = predict(X_val_3, w_3)\n",
        "print(\"mse in training set %s \\nmse in validation set %s\" \n",
        "      %(cal_mse(y_train,pred_train_3),\n",
        "        cal_mse(y_val, pred_val_3)))\n",
        "\n",
        "# mse 2 tập tốt"
      ],
      "execution_count": 9,
      "outputs": [
        {
          "output_type": "stream",
          "name": "stdout",
          "text": [
            "mse in training set 0.04982387306784301 \n",
            "mse in validation set 0.07772268092528212\n"
          ]
        }
      ]
    },
    {
      "cell_type": "code",
      "metadata": {
        "colab": {
          "base_uri": "https://localhost:8080/",
          "height": 265
        },
        "id": "vRcjy8U0EI_O",
        "outputId": "c5c51e04-c048-447b-e824-d6a63a1038db"
      },
      "source": [
        "plt.plot(x_train,pred_train_3)\n",
        "plt.scatter(x_train, y_train, color = 'blue', label = 'training set')\n",
        "plt.scatter(x_val, y_val, color = 'red', label = 'validation set')\n",
        "plt.legend()\n",
        "plt.show()"
      ],
      "execution_count": 10,
      "outputs": [
        {
          "output_type": "display_data",
          "data": {
            "image/png": "[encoded data removed]",
            "text/plain": [
              "<Figure size 432x288 with 1 Axes>"
            ]
          },
          "metadata": {
            "needs_background": "light"
          }
        }
      ]
    },
    {
      "cell_type": "code",
      "metadata": {
        "colab": {
          "base_uri": "https://localhost:8080/"
        },
        "id": "QD_GJlzVENdK",
        "outputId": "6d030388-7c99-4ba1-c15b-1552616e8648"
      },
      "source": [
        "#bac 9 \n",
        "x2 = np.power(x_train, 2).reshape(-1,1)\n",
        "x3 = np.power(x_train, 3).reshape(-1,1)\n",
        "x4 = np.power(x_train, 4).reshape(-1,1)\n",
        "x5 = np.power(x_train, 5).reshape(-1,1)\n",
        "x6 = np.power(x_train, 6).reshape(-1,1)\n",
        "x7 = np.power(x_train, 7).reshape(-1,1)\n",
        "x8 = np.power(x_train, 8).reshape(-1,1)\n",
        "x9 = np.power(x_train, 9).reshape(-1,1)\n",
        "\n",
        "X_train_9 = np.concatenate((np.ones(len(x_train)).reshape(-1,1),\n",
        "                            x_train.reshape(-1,1), x2, x3,\n",
        "                            x4, x5, x6, x7, x8, x9),axis = 1)\n",
        "X_train_9"
      ],
      "execution_count": 11,
      "outputs": [
        {
          "output_type": "execute_result",
          "data": {
            "text/plain": [
              "array([[1.00000000e+00, 0.00000000e+00, 0.00000000e+00, 0.00000000e+00,\n",
              "        0.00000000e+00, 0.00000000e+00, 0.00000000e+00, 0.00000000e+00,\n",
              "        0.00000000e+00, 0.00000000e+00],\n",
              "       [1.00000000e+00, 1.11111111e-01, 1.23456790e-02, 1.37174211e-03,\n",
              "        1.52415790e-04, 1.69350878e-05, 1.88167642e-06, 2.09075158e-07,\n",
              "        2.32305731e-08, 2.58117479e-09],\n",
              "       [1.00000000e+00, 2.22222222e-01, 4.93827160e-02, 1.09739369e-02,\n",
              "        2.43865264e-03, 5.41922810e-04, 1.20427291e-04, 2.67616202e-05,\n",
              "        5.94702672e-06, 1.32156149e-06],\n",
              "       [1.00000000e+00, 3.33333333e-01, 1.11111111e-01, 3.70370370e-02,\n",
              "        1.23456790e-02, 4.11522634e-03, 1.37174211e-03, 4.57247371e-04,\n",
              "        1.52415790e-04, 5.08052634e-05],\n",
              "       [1.00000000e+00, 4.44444444e-01, 1.97530864e-01, 8.77914952e-02,\n",
              "        3.90184423e-02, 1.73415299e-02, 7.70734663e-03, 3.42548739e-03,\n",
              "        1.52243884e-03, 6.76639485e-04],\n",
              "       [1.00000000e+00, 5.55555556e-01, 3.08641975e-01, 1.71467764e-01,\n",
              "        9.52598689e-02, 5.29221494e-02, 2.94011941e-02, 1.63339967e-02,\n",
              "        9.07444263e-03, 5.04135702e-03],\n",
              "       [1.00000000e+00, 6.66666667e-01, 4.44444444e-01, 2.96296296e-01,\n",
              "        1.97530864e-01, 1.31687243e-01, 8.77914952e-02, 5.85276635e-02,\n",
              "        3.90184423e-02, 2.60122949e-02],\n",
              "       [1.00000000e+00, 7.77777778e-01, 6.04938272e-01, 4.70507545e-01,\n",
              "        3.65950312e-01, 2.84628021e-01, 2.21377350e-01, 1.72182383e-01,\n",
              "        1.33919631e-01, 1.04159713e-01],\n",
              "       [1.00000000e+00, 8.88888889e-01, 7.90123457e-01, 7.02331962e-01,\n",
              "        6.24295077e-01, 5.54928957e-01, 4.93270184e-01, 4.38462386e-01,\n",
              "        3.89744343e-01, 3.46439416e-01],\n",
              "       [1.00000000e+00, 1.00000000e+00, 1.00000000e+00, 1.00000000e+00,\n",
              "        1.00000000e+00, 1.00000000e+00, 1.00000000e+00, 1.00000000e+00,\n",
              "        1.00000000e+00, 1.00000000e+00]])"
            ]
          },
          "metadata": {},
          "execution_count": 11
        }
      ]
    },
    {
      "cell_type": "code",
      "metadata": {
        "colab": {
          "base_uri": "https://localhost:8080/"
        },
        "id": "UT82PPUuERMs",
        "outputId": "f6c5ba11-9be5-4e1a-d01b-04ca25b134ea"
      },
      "source": [
        "x2_val = np.power(x_val, 2).reshape(-1,1)\n",
        "x3_val = np.power(x_val, 3).reshape(-1,1)\n",
        "x4_val = np.power(x_val, 4).reshape(-1,1)\n",
        "x5_val = np.power(x_val, 5).reshape(-1,1)\n",
        "x6_val = np.power(x_val, 6).reshape(-1,1)\n",
        "x7_val = np.power(x_val, 7).reshape(-1,1)\n",
        "x8_val = np.power(x_val, 8).reshape(-1,1)\n",
        "x9_val = np.power(x_val, 9).reshape(-1,1)\n",
        "\n",
        "X_val_9 = np.concatenate((np.ones(len(x_val)).reshape(-1,1),\n",
        "                            x_val.reshape(-1,1), x2_val, x3_val,\n",
        "                            x4_val, x5_val, x6_val, x7_val, x8_val, x9_val),axis = 1)\n",
        "X_val_9"
      ],
      "execution_count": 12,
      "outputs": [
        {
          "output_type": "execute_result",
          "data": {
            "text/plain": [
              "array([[1.00000000e+00, 0.00000000e+00, 0.00000000e+00, 0.00000000e+00,\n",
              "        0.00000000e+00, 0.00000000e+00, 0.00000000e+00, 0.00000000e+00,\n",
              "        0.00000000e+00, 0.00000000e+00],\n",
              "       [1.00000000e+00, 1.11111111e-01, 1.23456790e-02, 1.37174211e-03,\n",
              "        1.52415790e-04, 1.69350878e-05, 1.88167642e-06, 2.09075158e-07,\n",
              "        2.32305731e-08, 2.58117479e-09],\n",
              "       [1.00000000e+00, 2.22222222e-01, 4.93827160e-02, 1.09739369e-02,\n",
              "        2.43865264e-03, 5.41922810e-04, 1.20427291e-04, 2.67616202e-05,\n",
              "        5.94702672e-06, 1.32156149e-06],\n",
              "       [1.00000000e+00, 3.33333333e-01, 1.11111111e-01, 3.70370370e-02,\n",
              "        1.23456790e-02, 4.11522634e-03, 1.37174211e-03, 4.57247371e-04,\n",
              "        1.52415790e-04, 5.08052634e-05],\n",
              "       [1.00000000e+00, 4.44444444e-01, 1.97530864e-01, 8.77914952e-02,\n",
              "        3.90184423e-02, 1.73415299e-02, 7.70734663e-03, 3.42548739e-03,\n",
              "        1.52243884e-03, 6.76639485e-04],\n",
              "       [1.00000000e+00, 5.55555556e-01, 3.08641975e-01, 1.71467764e-01,\n",
              "        9.52598689e-02, 5.29221494e-02, 2.94011941e-02, 1.63339967e-02,\n",
              "        9.07444263e-03, 5.04135702e-03],\n",
              "       [1.00000000e+00, 6.66666667e-01, 4.44444444e-01, 2.96296296e-01,\n",
              "        1.97530864e-01, 1.31687243e-01, 8.77914952e-02, 5.85276635e-02,\n",
              "        3.90184423e-02, 2.60122949e-02],\n",
              "       [1.00000000e+00, 7.77777778e-01, 6.04938272e-01, 4.70507545e-01,\n",
              "        3.65950312e-01, 2.84628021e-01, 2.21377350e-01, 1.72182383e-01,\n",
              "        1.33919631e-01, 1.04159713e-01],\n",
              "       [1.00000000e+00, 8.88888889e-01, 7.90123457e-01, 7.02331962e-01,\n",
              "        6.24295077e-01, 5.54928957e-01, 4.93270184e-01, 4.38462386e-01,\n",
              "        3.89744343e-01, 3.46439416e-01],\n",
              "       [1.00000000e+00, 1.00000000e+00, 1.00000000e+00, 1.00000000e+00,\n",
              "        1.00000000e+00, 1.00000000e+00, 1.00000000e+00, 1.00000000e+00,\n",
              "        1.00000000e+00, 1.00000000e+00]])"
            ]
          },
          "metadata": {},
          "execution_count": 12
        }
      ]
    },
    {
      "cell_type": "code",
      "metadata": {
        "colab": {
          "base_uri": "https://localhost:8080/"
        },
        "id": "z4YhZe2IEXRA",
        "outputId": "868f2382-a6f9-4eb2-fc98-6eeaeb015afc"
      },
      "source": [
        "w_9 = cal_w(X_train_9, y_train)\n",
        "pred_train_9 = predict(X_train_9, w_9)\n",
        "pred_val_9 = predict(X_val_9, w_9)\n",
        "print(\"mse in training set %s \\nmse in validation set %s\" \n",
        "      %(cal_mse(y_train,pred_train_9),\n",
        "        cal_mse(y_val, pred_val_9)))\n",
        "\n",
        "#mse trên training ~ 0 trong khí validation lại lớn hơn nhiều\n",
        "# overfitting"
      ],
      "execution_count": 13,
      "outputs": [
        {
          "output_type": "stream",
          "name": "stdout",
          "text": [
            "mse in training set 5.623827968910547e-07 \n",
            "mse in validation set 0.07833656062889711\n"
          ]
        }
      ]
    },
    {
      "cell_type": "code",
      "metadata": {
        "colab": {
          "base_uri": "https://localhost:8080/",
          "height": 265
        },
        "id": "fWPvWQADEaU8",
        "outputId": "232c1f56-727d-4b70-faf6-b67f8f1a1475"
      },
      "source": [
        "plt.plot(x_train,pred_train_9)\n",
        "plt.scatter(x_train, y_train, color = 'blue', label = 'training set')\n",
        "plt.scatter(x_val, y_val, color = 'red', label = 'validation set')\n",
        "plt.legend()\n",
        "plt.show()"
      ],
      "execution_count": 14,
      "outputs": [
        {
          "output_type": "display_data",
          "data": {
            "image/png": "[encoded data removed]",
            "text/plain": [
              "<Figure size 432x288 with 1 Axes>"
            ]
          },
          "metadata": {
            "needs_background": "light"
          }
        }
      ]
    },
    {
      "cell_type": "code",
      "metadata": {
        "id": "ZACoIJYYEc3E"
      },
      "source": [
        "### EX3:\n",
        "x_train_100, y_train_100 = create_toy_data(func, 110, 0.25)\n",
        "x_test = np.linspace(0, 1, 100)\n",
        "y_test = func(x_test)\n",
        "\n",
        "x_val, y_val = create_toy_data(func, 10, 0.25)"
      ],
      "execution_count": 15,
      "outputs": []
    },
    {
      "cell_type": "code",
      "metadata": {
        "colab": {
          "base_uri": "https://localhost:8080/"
        },
        "id": "i6dq9mBpEnlh",
        "outputId": "0c133fc5-28b8-4fa1-cf87-65b76c16c1ad"
      },
      "source": [
        "#bac 9 \n",
        "x2_ = np.power(x_train_100, 2).reshape(-1,1)\n",
        "x3_ = np.power(x_train_100, 3).reshape(-1,1)\n",
        "x4_ = np.power(x_train_100, 4).reshape(-1,1)\n",
        "x5_ = np.power(x_train_100, 5).reshape(-1,1)\n",
        "x6_ = np.power(x_train_100, 6).reshape(-1,1)\n",
        "x7_ = np.power(x_train_100, 7).reshape(-1,1)\n",
        "x8_ = np.power(x_train_100, 8).reshape(-1,1)\n",
        "x9_ = np.power(x_train_100, 9).reshape(-1,1)\n",
        "\n",
        "X_train_9_100 = np.concatenate((np.ones(len(x_train_100)).reshape(-1,1),\n",
        "                            x_train_100.reshape(-1,1), x2_, x3_,\n",
        "                            x4_, x5_, x6_, x7_, x8_, x9_),axis = 1)\n",
        "X_train_9_100"
      ],
      "execution_count": 16,
      "outputs": [
        {
          "output_type": "execute_result",
          "data": {
            "text/plain": [
              "array([[1.00000000e+00, 0.00000000e+00, 0.00000000e+00, ...,\n",
              "        0.00000000e+00, 0.00000000e+00, 0.00000000e+00],\n",
              "       [1.00000000e+00, 9.17431193e-03, 8.41679993e-05, ...,\n",
              "        5.47034245e-15, 5.01866280e-17, 4.60427780e-19],\n",
              "       [1.00000000e+00, 1.83486239e-02, 3.36671997e-04, ...,\n",
              "        7.00203833e-13, 1.28477768e-14, 2.35739023e-16],\n",
              "       ...,\n",
              "       [1.00000000e+00, 9.81651376e-01, 9.63639424e-01, ...,\n",
              "        8.78417457e-01, 8.62299706e-01, 8.46477693e-01],\n",
              "       [1.00000000e+00, 9.90825688e-01, 9.81735544e-01, ...,\n",
              "        9.37520565e-01, 9.28919459e-01, 9.20397262e-01],\n",
              "       [1.00000000e+00, 1.00000000e+00, 1.00000000e+00, ...,\n",
              "        1.00000000e+00, 1.00000000e+00, 1.00000000e+00]])"
            ]
          },
          "metadata": {},
          "execution_count": 16
        }
      ]
    },
    {
      "cell_type": "code",
      "metadata": {
        "colab": {
          "base_uri": "https://localhost:8080/"
        },
        "id": "Nsh92OwHEpqE",
        "outputId": "bb50e41a-e50b-44ad-cd4e-a796551fe417"
      },
      "source": [
        "X_val_9.shape"
      ],
      "execution_count": 18,
      "outputs": [
        {
          "output_type": "execute_result",
          "data": {
            "text/plain": [
              "(10, 10)"
            ]
          },
          "metadata": {},
          "execution_count": 18
        }
      ]
    },
    {
      "cell_type": "code",
      "metadata": {
        "colab": {
          "base_uri": "https://localhost:8080/"
        },
        "id": "HYmzgD8pEr0T",
        "outputId": "1d56b02c-2ee3-441c-e105-c2c650da812d"
      },
      "source": [
        "w_9_100 = cal_w(X_train_9_100, y_train_100)\n",
        "w_9_100.shape"
      ],
      "execution_count": 19,
      "outputs": [
        {
          "output_type": "execute_result",
          "data": {
            "text/plain": [
              "(10,)"
            ]
          },
          "metadata": {},
          "execution_count": 19
        }
      ]
    },
    {
      "cell_type": "code",
      "metadata": {
        "colab": {
          "base_uri": "https://localhost:8080/"
        },
        "id": "EPFDdYsAEvKd",
        "outputId": "43f1ed5c-7442-414b-c51d-f614c2788610"
      },
      "source": [
        "w_9_100 = cal_w(X_train_9_100, y_train_100)\n",
        "pred_train_9_100 = predict(X_train_9_100, w_9_100)\n",
        "pred_val_9_100 = predict(X_val_9, w_9_100)\n",
        "print(\"mse in training set %s \\nmse in validation set %s\" \n",
        "      %(cal_mse(y_train_100,pred_train_9_100),\n",
        "        cal_mse(y_val, pred_val_9_100)))\n",
        "\n",
        "# mse tren 2 tap training va validation da tot hon"
      ],
      "execution_count": 20,
      "outputs": [
        {
          "output_type": "stream",
          "name": "stdout",
          "text": [
            "mse in training set 0.052534682335892965 \n",
            "mse in validation set 0.10265817697415525\n"
          ]
        }
      ]
    },
    {
      "cell_type": "code",
      "metadata": {
        "colab": {
          "base_uri": "https://localhost:8080/",
          "height": 265
        },
        "id": "FMpj1OJiE0HC",
        "outputId": "6c4ea2df-6ad1-4256-df43-dbc908ce1763"
      },
      "source": [
        "plt.plot(x_train_100, pred_train_9_100)\n",
        "plt.scatter(x_train_100, y_train_100, color = 'blue', label = 'training set')\n",
        "plt.scatter(x_val, y_val, color = 'red', label = 'validation set')\n",
        "plt.legend()\n",
        "plt.show()"
      ],
      "execution_count": 21,
      "outputs": [
        {
          "output_type": "display_data",
          "data": {
            "image/png": "[encoded data removed]",
            "text/plain": [
              "<Figure size 432x288 with 1 Axes>"
            ]
          },
          "metadata": {
            "needs_background": "light"
          }
        }
      ]
    }
  ]
}