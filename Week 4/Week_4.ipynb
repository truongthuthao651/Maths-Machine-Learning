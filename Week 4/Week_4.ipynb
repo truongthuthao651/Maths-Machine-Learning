{
  "nbformat": 4,
  "nbformat_minor": 0,
  "metadata": {
    "colab": {
      "name": "Week 4.ipynb",
      "provenance": []
    },
    "kernelspec": {
      "name": "python3",
      "display_name": "Python 3"
    },
    "language_info": {
      "name": "python"
    }
  },
  "cells": [
    {
      "cell_type": "code",
      "metadata": {
        "id": "tl3Kvz2WJ_LD"
      },
      "source": [
        "import pandas as pd\n",
        "import numpy as np"
      ],
      "execution_count": 1,
      "outputs": []
    },
    {
      "cell_type": "code",
      "metadata": {
        "colab": {
          "base_uri": "https://localhost:8080/",
          "height": 202
        },
        "id": "elIXAMyYKhu6",
        "outputId": "c6f5b274-0e67-4fb3-bf21-b4851aca6ca4"
      },
      "source": [
        "dt = pd.read_csv('/content/drive/MyDrive/Colab Notebooks/Data /data_square.csv')\n",
        "dt.head()"
      ],
      "execution_count": 2,
      "outputs": [
        {
          "output_type": "execute_result",
          "data": {
            "text/html": [
              "<div>\n",
              "<style scoped>\n",
              "    .dataframe tbody tr th:only-of-type {\n",
              "        vertical-align: middle;\n",
              "    }\n",
              "\n",
              "    .dataframe tbody tr th {\n",
              "        vertical-align: top;\n",
              "    }\n",
              "\n",
              "    .dataframe thead th {\n",
              "        text-align: right;\n",
              "    }\n",
              "</style>\n",
              "<table border=\"1\" class=\"dataframe\">\n",
              "  <thead>\n",
              "    <tr style=\"text-align: right;\">\n",
              "      <th></th>\n",
              "      <th>Diện tích</th>\n",
              "      <th>Giá nhà</th>\n",
              "    </tr>\n",
              "  </thead>\n",
              "  <tbody>\n",
              "    <tr>\n",
              "      <th>0</th>\n",
              "      <td>30.0000</td>\n",
              "      <td>-100.000</td>\n",
              "    </tr>\n",
              "    <tr>\n",
              "      <th>1</th>\n",
              "      <td>32.4138</td>\n",
              "      <td>-190.725</td>\n",
              "    </tr>\n",
              "    <tr>\n",
              "      <th>2</th>\n",
              "      <td>34.8276</td>\n",
              "      <td>-269.798</td>\n",
              "    </tr>\n",
              "    <tr>\n",
              "      <th>3</th>\n",
              "      <td>37.2414</td>\n",
              "      <td>-337.218</td>\n",
              "    </tr>\n",
              "    <tr>\n",
              "      <th>4</th>\n",
              "      <td>39.6552</td>\n",
              "      <td>-392.985</td>\n",
              "    </tr>\n",
              "  </tbody>\n",
              "</table>\n",
              "</div>"
            ],
            "text/plain": [
              "   Diện tích  Giá nhà\n",
              "0    30.0000 -100.000\n",
              "1    32.4138 -190.725\n",
              "2    34.8276 -269.798\n",
              "3    37.2414 -337.218\n",
              "4    39.6552 -392.985"
            ]
          },
          "metadata": {},
          "execution_count": 2
        }
      ]
    },
    {
      "cell_type": "code",
      "metadata": {
        "id": "G6yO9elxK9s1"
      },
      "source": [
        "import matplotlib.pyplot as plt"
      ],
      "execution_count": 3,
      "outputs": []
    },
    {
      "cell_type": "code",
      "metadata": {
        "colab": {
          "base_uri": "https://localhost:8080/",
          "height": 265
        },
        "id": "aCk_S5h-LCPe",
        "outputId": "66cb5a24-6e93-41f1-8c1e-da9a17e42083"
      },
      "source": [
        "plt.scatter(dt['Diện tích'], dt['Giá nhà'])\n",
        "plt.show()"
      ],
      "execution_count": 4,
      "outputs": [
        {
          "output_type": "display_data",
          "data": {
            "image/png": "[encoded data removed]",
            "text/plain": [
              "<Figure size 432x288 with 1 Axes>"
            ]
          },
          "metadata": {
            "needs_background": "light"
          }
        }
      ]
    },
    {
      "cell_type": "code",
      "metadata": {
        "colab": {
          "base_uri": "https://localhost:8080/",
          "height": 202
        },
        "id": "nfNMhmMJLEyB",
        "outputId": "5e2c7525-5953-4a00-c18d-1dec34acf135"
      },
      "source": [
        "dt['x2'] = dt['Diện tích']**2\n",
        "dt.head()"
      ],
      "execution_count": 5,
      "outputs": [
        {
          "output_type": "execute_result",
          "data": {
            "text/html": [
              "<div>\n",
              "<style scoped>\n",
              "    .dataframe tbody tr th:only-of-type {\n",
              "        vertical-align: middle;\n",
              "    }\n",
              "\n",
              "    .dataframe tbody tr th {\n",
              "        vertical-align: top;\n",
              "    }\n",
              "\n",
              "    .dataframe thead th {\n",
              "        text-align: right;\n",
              "    }\n",
              "</style>\n",
              "<table border=\"1\" class=\"dataframe\">\n",
              "  <thead>\n",
              "    <tr style=\"text-align: right;\">\n",
              "      <th></th>\n",
              "      <th>Diện tích</th>\n",
              "      <th>Giá nhà</th>\n",
              "      <th>x2</th>\n",
              "    </tr>\n",
              "  </thead>\n",
              "  <tbody>\n",
              "    <tr>\n",
              "      <th>0</th>\n",
              "      <td>30.0000</td>\n",
              "      <td>-100.000</td>\n",
              "      <td>900.000000</td>\n",
              "    </tr>\n",
              "    <tr>\n",
              "      <th>1</th>\n",
              "      <td>32.4138</td>\n",
              "      <td>-190.725</td>\n",
              "      <td>1050.654430</td>\n",
              "    </tr>\n",
              "    <tr>\n",
              "      <th>2</th>\n",
              "      <td>34.8276</td>\n",
              "      <td>-269.798</td>\n",
              "      <td>1212.961722</td>\n",
              "    </tr>\n",
              "    <tr>\n",
              "      <th>3</th>\n",
              "      <td>37.2414</td>\n",
              "      <td>-337.218</td>\n",
              "      <td>1386.921874</td>\n",
              "    </tr>\n",
              "    <tr>\n",
              "      <th>4</th>\n",
              "      <td>39.6552</td>\n",
              "      <td>-392.985</td>\n",
              "      <td>1572.534887</td>\n",
              "    </tr>\n",
              "  </tbody>\n",
              "</table>\n",
              "</div>"
            ],
            "text/plain": [
              "   Diện tích  Giá nhà           x2\n",
              "0    30.0000 -100.000   900.000000\n",
              "1    32.4138 -190.725  1050.654430\n",
              "2    34.8276 -269.798  1212.961722\n",
              "3    37.2414 -337.218  1386.921874\n",
              "4    39.6552 -392.985  1572.534887"
            ]
          },
          "metadata": {},
          "execution_count": 5
        }
      ]
    },
    {
      "cell_type": "code",
      "metadata": {
        "colab": {
          "base_uri": "https://localhost:8080/"
        },
        "id": "3cv54vmaLHfN",
        "outputId": "f076fced-8043-488a-fced-92b98889aeaa"
      },
      "source": [
        "x1 = dt['Diện tích'].values.reshape(-1,1)\n",
        "x2 = dt['x2'].values.reshape(-1,1)\n",
        "i =np.ones(len(dt)).reshape(-1,1)\n",
        "X = np.concatenate((i, x1,x2), axis=1)\n",
        "X"
      ],
      "execution_count": 6,
      "outputs": [
        {
          "output_type": "execute_result",
          "data": {
            "text/plain": [
              "array([[1.00000000e+00, 3.00000000e+01, 9.00000000e+02],\n",
              "       [1.00000000e+00, 3.24138000e+01, 1.05065443e+03],\n",
              "       [1.00000000e+00, 3.48276000e+01, 1.21296172e+03],\n",
              "       [1.00000000e+00, 3.72414000e+01, 1.38692187e+03],\n",
              "       [1.00000000e+00, 3.96552000e+01, 1.57253489e+03],\n",
              "       [1.00000000e+00, 4.20690000e+01, 1.76980076e+03],\n",
              "       [1.00000000e+00, 4.44828000e+01, 1.97871950e+03],\n",
              "       [1.00000000e+00, 4.68966000e+01, 2.19929109e+03],\n",
              "       [1.00000000e+00, 4.93103000e+01, 2.43150569e+03],\n",
              "       [1.00000000e+00, 5.17241000e+01, 2.67538252e+03],\n",
              "       [1.00000000e+00, 5.41379000e+01, 2.93091222e+03],\n",
              "       [1.00000000e+00, 5.65517000e+01, 3.19809477e+03],\n",
              "       [1.00000000e+00, 5.89655000e+01, 3.47693019e+03],\n",
              "       [1.00000000e+00, 6.13793000e+01, 3.76741847e+03],\n",
              "       [1.00000000e+00, 6.37931000e+01, 4.06955961e+03],\n",
              "       [1.00000000e+00, 6.62069000e+01, 4.38335361e+03],\n",
              "       [1.00000000e+00, 6.86207000e+01, 4.70880047e+03],\n",
              "       [1.00000000e+00, 7.10345000e+01, 5.04590019e+03],\n",
              "       [1.00000000e+00, 7.34483000e+01, 5.39465277e+03],\n",
              "       [1.00000000e+00, 7.58621000e+01, 5.75505822e+03],\n",
              "       [1.00000000e+00, 7.82759000e+01, 6.12711652e+03],\n",
              "       [1.00000000e+00, 8.06897000e+01, 6.51082769e+03],\n",
              "       [1.00000000e+00, 8.31034000e+01, 6.90617509e+03],\n",
              "       [1.00000000e+00, 8.55172000e+01, 7.31319150e+03],\n",
              "       [1.00000000e+00, 8.79310000e+01, 7.73186076e+03],\n",
              "       [1.00000000e+00, 9.03448000e+01, 8.16218289e+03],\n",
              "       [1.00000000e+00, 9.27586000e+01, 8.60415787e+03],\n",
              "       [1.00000000e+00, 9.51724000e+01, 9.05778572e+03],\n",
              "       [1.00000000e+00, 9.75862000e+01, 9.52306643e+03],\n",
              "       [1.00000000e+00, 1.00000000e+02, 1.00000000e+04]])"
            ]
          },
          "metadata": {},
          "execution_count": 6
        }
      ]
    },
    {
      "cell_type": "code",
      "metadata": {
        "colab": {
          "base_uri": "https://localhost:8080/"
        },
        "id": "QnPZOk2vLKJl",
        "outputId": "7043f106-ca58-4588-975c-d4e807915fed"
      },
      "source": [
        "y = dt['Giá nhà'].values.reshape(-1,1)\n",
        "y"
      ],
      "execution_count": 7,
      "outputs": [
        {
          "output_type": "execute_result",
          "data": {
            "text/plain": [
              "array([[-100.    ],\n",
              "       [-190.725 ],\n",
              "       [-269.798 ],\n",
              "       [-337.218 ],\n",
              "       [-392.985 ],\n",
              "       [-437.099 ],\n",
              "       [-469.56  ],\n",
              "       [-490.369 ],\n",
              "       [-499.524 ],\n",
              "       [-497.027 ],\n",
              "       [-482.878 ],\n",
              "       [-457.075 ],\n",
              "       [-419.62  ],\n",
              "       [-370.511 ],\n",
              "       [-309.75  ],\n",
              "       [-237.337 ],\n",
              "       [-153.27  ],\n",
              "       [ -57.5505],\n",
              "       [  49.8216],\n",
              "       [ 168.847 ],\n",
              "       [ 299.524 ],\n",
              "       [ 441.855 ],\n",
              "       [ 595.838 ],\n",
              "       [ 761.474 ],\n",
              "       [ 938.763 ],\n",
              "       [1127.71  ],\n",
              "       [1328.3   ],\n",
              "       [1540.55  ],\n",
              "       [1764.45  ],\n",
              "       [2000.    ]])"
            ]
          },
          "metadata": {},
          "execution_count": 7
        }
      ]
    },
    {
      "cell_type": "code",
      "metadata": {
        "colab": {
          "base_uri": "https://localhost:8080/"
        },
        "id": "-JydVioxLNHC",
        "outputId": "f05526bc-de61-4d1f-de96-5951d485bb3d"
      },
      "source": [
        "a = np.dot(X.T, X)\n",
        "b = np.dot(X.T, y)\n",
        "w = np.dot(np.linalg.pinv(a), b)\n",
        "w"
      ],
      "execution_count": 8,
      "outputs": [
        {
          "output_type": "execute_result",
          "data": {
            "text/plain": [
              "array([[ 2.00000579e+03],\n",
              "       [-1.00000222e+02],\n",
              "       [ 1.00000199e+00]])"
            ]
          },
          "metadata": {},
          "execution_count": 8
        }
      ]
    },
    {
      "cell_type": "code",
      "metadata": {
        "colab": {
          "base_uri": "https://localhost:8080/",
          "height": 265
        },
        "id": "5_KQIgj4LP6Y",
        "outputId": "edcc6718-8e90-4a1f-fd6d-5c582bb575cd"
      },
      "source": [
        "plt.plot(x1, np.dot(X,w))\n",
        "plt.scatter(x1, y)\n",
        "plt.show()"
      ],
      "execution_count": 9,
      "outputs": [
        {
          "output_type": "display_data",
          "data": {
            "image/png": "[encoded data removed]",
            "text/plain": [
              "<Figure size 432x288 with 1 Axes>"
            ]
          },
          "metadata": {
            "needs_background": "light"
          }
        }
      ]
    },
    {
      "cell_type": "code",
      "metadata": {
        "colab": {
          "base_uri": "https://localhost:8080/"
        },
        "id": "ASGqx0xNLSg9",
        "outputId": "d635ec27-6da4-43e2-f46f-649720eee90c"
      },
      "source": [
        "# EX2:\n",
        "i =np.ones(len(dt)).reshape(-1,1)\n",
        "X1 = np.concatenate((i, x1), axis=1)\n",
        "X1"
      ],
      "execution_count": 10,
      "outputs": [
        {
          "output_type": "execute_result",
          "data": {
            "text/plain": [
              "array([[  1.    ,  30.    ],\n",
              "       [  1.    ,  32.4138],\n",
              "       [  1.    ,  34.8276],\n",
              "       [  1.    ,  37.2414],\n",
              "       [  1.    ,  39.6552],\n",
              "       [  1.    ,  42.069 ],\n",
              "       [  1.    ,  44.4828],\n",
              "       [  1.    ,  46.8966],\n",
              "       [  1.    ,  49.3103],\n",
              "       [  1.    ,  51.7241],\n",
              "       [  1.    ,  54.1379],\n",
              "       [  1.    ,  56.5517],\n",
              "       [  1.    ,  58.9655],\n",
              "       [  1.    ,  61.3793],\n",
              "       [  1.    ,  63.7931],\n",
              "       [  1.    ,  66.2069],\n",
              "       [  1.    ,  68.6207],\n",
              "       [  1.    ,  71.0345],\n",
              "       [  1.    ,  73.4483],\n",
              "       [  1.    ,  75.8621],\n",
              "       [  1.    ,  78.2759],\n",
              "       [  1.    ,  80.6897],\n",
              "       [  1.    ,  83.1034],\n",
              "       [  1.    ,  85.5172],\n",
              "       [  1.    ,  87.931 ],\n",
              "       [  1.    ,  90.3448],\n",
              "       [  1.    ,  92.7586],\n",
              "       [  1.    ,  95.1724],\n",
              "       [  1.    ,  97.5862],\n",
              "       [  1.    , 100.    ]])"
            ]
          },
          "metadata": {},
          "execution_count": 10
        }
      ]
    },
    {
      "cell_type": "code",
      "metadata": {
        "colab": {
          "base_uri": "https://localhost:8080/"
        },
        "id": "B99wwij9LW_g",
        "outputId": "dd383987-dc7d-4708-eb76-d1d6c9da7767"
      },
      "source": [
        "a1 = np.dot(X1.T, X1)\n",
        "b1 = np.dot(X1.T, y)\n",
        "w1 = np.dot(np.linalg.pinv(a1), b1)\n",
        "w1"
      ],
      "execution_count": 11,
      "outputs": [
        {
          "output_type": "execute_result",
          "data": {
            "text/plain": [
              "array([[-1788.5078219 ],\n",
              "       [   30.00003629]])"
            ]
          },
          "metadata": {},
          "execution_count": 11
        }
      ]
    },
    {
      "cell_type": "code",
      "metadata": {
        "colab": {
          "base_uri": "https://localhost:8080/",
          "height": 265
        },
        "id": "Hk8yJ__GLbgH",
        "outputId": "bb505887-e87e-4c84-cd6d-41723f7226b4"
      },
      "source": [
        "plt.plot(x1, np.dot(X1, w1))\n",
        "plt.scatter(x1, y)\n",
        "plt.show()"
      ],
      "execution_count": 12,
      "outputs": [
        {
          "output_type": "display_data",
          "data": {
            "image/png": "[encoded data removed]",
            "text/plain": [
              "<Figure size 432x288 with 1 Axes>"
            ]
          },
          "metadata": {
            "needs_background": "light"
          }
        }
      ]
    },
    {
      "cell_type": "code",
      "metadata": {
        "id": "dFjbm493LdmM"
      },
      "source": [
        "# EX3:\n",
        "import numpy as np\n",
        "import matplotlib.pyplot as plt\n",
        "%matplotlib inline\n",
        "\n",
        "np.random.seed(1234)"
      ],
      "execution_count": 13,
      "outputs": []
    },
    {
      "cell_type": "code",
      "metadata": {
        "colab": {
          "base_uri": "https://localhost:8080/",
          "height": 265
        },
        "id": "9SGnH5BYLhLq",
        "outputId": "50e76147-209d-419a-d842-dd686baf948a"
      },
      "source": [
        "def create_toy_data(func, sample_size, std):\n",
        "    x = np.linspace(0, 1, sample_size)\n",
        "    t = func(x) + np.random.normal(scale=std, size=x.shape)\n",
        "    return x, t\n",
        "\n",
        "def func(x):\n",
        "    return np.sin(2 * np.pi * x)\n",
        "\n",
        "x_train, y_train = create_toy_data(func, 10, 0.25)\n",
        "x_test = np.linspace(0, 1, 100)\n",
        "y_test = func(x_test)\n",
        "\n",
        "plt.scatter(x_train, y_train, facecolor=\"none\", edgecolor=\"b\", s=50, label=\"training data\")\n",
        "plt.plot(x_test, y_test, c=\"g\", label=\"$\\sin(2\\pi x)$\")\n",
        "plt.legend()\n",
        "plt.show()"
      ],
      "execution_count": 14,
      "outputs": [
        {
          "output_type": "display_data",
          "data": {
            "image/png": "[encoded data removed]",
            "text/plain": [
              "<Figure size 432x288 with 1 Axes>"
            ]
          },
          "metadata": {
            "needs_background": "light"
          }
        }
      ]
    },
    {
      "cell_type": "code",
      "metadata": {
        "colab": {
          "base_uri": "https://localhost:8080/"
        },
        "id": "sb1yDEmvLjdu",
        "outputId": "8ce73f3e-6175-43b7-cbe1-1d712747b927"
      },
      "source": [
        "x_train, x_val = create_toy_data(func, 10, 0.5)\n",
        "y_val = func(x_val)\n",
        "print(x_val)\n",
        "print(x_train)"
      ],
      "execution_count": 16,
      "outputs": [
        {
          "output_type": "stream",
          "name": "stdout",
          "text": [
            "[-0.10132316  0.31480294  1.08151844  1.14274486  1.00109592 -0.57667279\n",
            " -0.52824836 -1.89332137 -0.73434188  0.52948459]\n",
            "[0.         0.11111111 0.22222222 0.33333333 0.44444444 0.55555556\n",
            " 0.66666667 0.77777778 0.88888889 1.        ]\n"
          ]
        }
      ]
    },
    {
      "cell_type": "code",
      "metadata": {
        "colab": {
          "base_uri": "https://localhost:8080/",
          "height": 281
        },
        "id": "Gx3NDbz9Ln7b",
        "outputId": "bf4ed5ee-b4e7-4d8f-d821-813120f9a208"
      },
      "source": [
        "plt.scatter(x_train, y_train, facecolor=\"none\", edgecolor=\"b\", s=50, label=\"training data\")"
      ],
      "execution_count": 17,
      "outputs": [
        {
          "output_type": "execute_result",
          "data": {
            "text/plain": [
              "<matplotlib.collections.PathCollection at 0x7f1655c6ea90>"
            ]
          },
          "metadata": {},
          "execution_count": 17
        },
        {
          "output_type": "display_data",
          "data": {
            "image/png": "[encoded data removed]",
            "text/plain": [
              "<Figure size 432x288 with 1 Axes>"
            ]
          },
          "metadata": {
            "needs_background": "light"
          }
        }
      ]
    },
    {
      "cell_type": "code",
      "metadata": {
        "colab": {
          "base_uri": "https://localhost:8080/"
        },
        "id": "XwQsfHeILtLk",
        "outputId": "c69fc1a0-72d3-4a0c-bdbb-4732732a41b4"
      },
      "source": [
        "i =np.ones(len(x_train)).reshape(-1,1)\n",
        "X_train_1 = np.concatenate((i, x_train.reshape(-1,1)), axis=1)\n",
        "X_train_1"
      ],
      "execution_count": 18,
      "outputs": [
        {
          "output_type": "execute_result",
          "data": {
            "text/plain": [
              "array([[1.        , 0.        ],\n",
              "       [1.        , 0.11111111],\n",
              "       [1.        , 0.22222222],\n",
              "       [1.        , 0.33333333],\n",
              "       [1.        , 0.44444444],\n",
              "       [1.        , 0.55555556],\n",
              "       [1.        , 0.66666667],\n",
              "       [1.        , 0.77777778],\n",
              "       [1.        , 0.88888889],\n",
              "       [1.        , 1.        ]])"
            ]
          },
          "metadata": {},
          "execution_count": 18
        }
      ]
    },
    {
      "cell_type": "code",
      "metadata": {
        "id": "OG1fB4cjLxCx"
      },
      "source": [
        "def cal_w(X, y):\n",
        "  a = np.dot(X.T, X)\n",
        "  b = np.dot(X.T, y)\n",
        "  w = np.dot(np.linalg.pinv(a), b)\n",
        "  return w"
      ],
      "execution_count": 19,
      "outputs": []
    },
    {
      "cell_type": "code",
      "metadata": {
        "colab": {
          "base_uri": "https://localhost:8080/",
          "height": 265
        },
        "id": "1vA9bICbL3J4",
        "outputId": "df0ade3a-abb9-4047-9341-dec35619348d"
      },
      "source": [
        "w_1 = cal_w(X_train_1, y_train)\n",
        "plt.plot(x_train, np.dot(X_train_1, w_1))\n",
        "plt.scatter(x_train, y_train)\n",
        "plt.show()"
      ],
      "execution_count": 20,
      "outputs": [
        {
          "output_type": "display_data",
          "data": {
            "image/png": "[encoded data removed]",
            "text/plain": [
              "<Figure size 432x288 with 1 Axes>"
            ]
          },
          "metadata": {
            "needs_background": "light"
          }
        }
      ]
    },
    {
      "cell_type": "code",
      "metadata": {
        "colab": {
          "base_uri": "https://localhost:8080/"
        },
        "id": "QLRRlfs1L5W0",
        "outputId": "2e321169-e90d-4391-ce17-f28fe0aa15a7"
      },
      "source": [
        "i =np.ones(len(x_val)).reshape(-1,1)\n",
        "X_val_1 = np.concatenate((i, x_val.reshape(-1,1)), axis=1)\n",
        "X_val_1"
      ],
      "execution_count": 21,
      "outputs": [
        {
          "output_type": "execute_result",
          "data": {
            "text/plain": [
              "array([[ 1.        , -0.10132316],\n",
              "       [ 1.        ,  0.31480294],\n",
              "       [ 1.        ,  1.08151844],\n",
              "       [ 1.        ,  1.14274486],\n",
              "       [ 1.        ,  1.00109592],\n",
              "       [ 1.        , -0.57667279],\n",
              "       [ 1.        , -0.52824836],\n",
              "       [ 1.        , -1.89332137],\n",
              "       [ 1.        , -0.73434188],\n",
              "       [ 1.        ,  0.52948459]])"
            ]
          },
          "metadata": {},
          "execution_count": 21
        }
      ]
    },
    {
      "cell_type": "code",
      "metadata": {
        "colab": {
          "base_uri": "https://localhost:8080/"
        },
        "id": "6CRSrPOuL7-D",
        "outputId": "97eb8cf1-65f1-462f-cab5-d94a2e224404"
      },
      "source": [
        "predict_train_1 = np.dot(X_train_1, w_1)\n",
        "mse_1 = 1/len(x_train) * np.sum((predict_train_1 - y_train)**2)\n",
        "mse_1"
      ],
      "execution_count": 22,
      "outputs": [
        {
          "output_type": "execute_result",
          "data": {
            "text/plain": [
              "0.23077661663788357"
            ]
          },
          "metadata": {},
          "execution_count": 22
        }
      ]
    },
    {
      "cell_type": "code",
      "metadata": {
        "colab": {
          "base_uri": "https://localhost:8080/"
        },
        "id": "een6YAetMC2N",
        "outputId": "b1d5a872-cfa0-40ac-87f8-4735f2d79e37"
      },
      "source": [
        "predict_val_1 = np.dot(X_val_1, w_1)\n",
        "mse_val_1 = 1/len(x_val) * np.sum((predict_val_1 - y_val)**2)\n",
        "mse_val_1"
      ],
      "execution_count": 23,
      "outputs": [
        {
          "output_type": "execute_result",
          "data": {
            "text/plain": [
              "2.463607600614156"
            ]
          },
          "metadata": {},
          "execution_count": 23
        }
      ]
    },
    {
      "cell_type": "code",
      "metadata": {
        "id": "cKdxn-YpMFQn"
      },
      "source": [
        "def cal_mse(x, y, predict):\n",
        "  return 1/len(x) * np.sum((predict - y)**2)"
      ],
      "execution_count": 24,
      "outputs": []
    },
    {
      "cell_type": "code",
      "metadata": {
        "colab": {
          "base_uri": "https://localhost:8080/"
        },
        "id": "q89Bhe_PMHcl",
        "outputId": "161085b0-39a1-4873-a42b-d9d74012eed1"
      },
      "source": [
        "predict_val_1 = np.dot(X_val_1, w_1)\n",
        "mse_val_1 = cal_mse(x_val, y_val, predict_val_1)\n",
        "mse_val_1"
      ],
      "execution_count": 25,
      "outputs": [
        {
          "output_type": "execute_result",
          "data": {
            "text/plain": [
              "2.463607600614156"
            ]
          },
          "metadata": {},
          "execution_count": 25
        }
      ]
    },
    {
      "cell_type": "code",
      "metadata": {
        "colab": {
          "base_uri": "https://localhost:8080/"
        },
        "id": "Qkr8tzh2MJyz",
        "outputId": "03303339-0921-4153-f760-b4ac690eab64"
      },
      "source": [
        "x3 = np.power(x_train,3)\n",
        "x3"
      ],
      "execution_count": 26,
      "outputs": [
        {
          "output_type": "execute_result",
          "data": {
            "text/plain": [
              "array([0.        , 0.00137174, 0.01097394, 0.03703704, 0.0877915 ,\n",
              "       0.17146776, 0.2962963 , 0.47050754, 0.70233196, 1.        ])"
            ]
          },
          "metadata": {},
          "execution_count": 26
        }
      ]
    },
    {
      "cell_type": "code",
      "metadata": {
        "colab": {
          "base_uri": "https://localhost:8080/"
        },
        "id": "SOX4J14jML7P",
        "outputId": "f437db1f-b105-42eb-8cc1-eabaf98702c9"
      },
      "source": [
        "i =np.ones(len(x_train)).reshape(-1,1)\n",
        "X_train_3 = np.concatenate((i, x_train.reshape(-1,1),x3.reshape(-1,1)), axis=1)\n",
        "X_train_3"
      ],
      "execution_count": 27,
      "outputs": [
        {
          "output_type": "execute_result",
          "data": {
            "text/plain": [
              "array([[1.        , 0.        , 0.        ],\n",
              "       [1.        , 0.11111111, 0.00137174],\n",
              "       [1.        , 0.22222222, 0.01097394],\n",
              "       [1.        , 0.33333333, 0.03703704],\n",
              "       [1.        , 0.44444444, 0.0877915 ],\n",
              "       [1.        , 0.55555556, 0.17146776],\n",
              "       [1.        , 0.66666667, 0.2962963 ],\n",
              "       [1.        , 0.77777778, 0.47050754],\n",
              "       [1.        , 0.88888889, 0.70233196],\n",
              "       [1.        , 1.        , 1.        ]])"
            ]
          },
          "metadata": {},
          "execution_count": 27
        }
      ]
    },
    {
      "cell_type": "code",
      "metadata": {
        "colab": {
          "base_uri": "https://localhost:8080/",
          "height": 265
        },
        "id": "aSk2qxidMQdW",
        "outputId": "c899af25-7e1e-435d-88a2-9ea9195fac10"
      },
      "source": [
        "w_3 = cal_w(X_train_3, y_train)\n",
        "plt.plot(x_train, np.dot(X_train_3, w_3))\n",
        "plt.scatter(x_train, y_train)\n",
        "plt.show()"
      ],
      "execution_count": 28,
      "outputs": [
        {
          "output_type": "display_data",
          "data": {
            "image/png": "[encoded data removed]",
            "text/plain": [
              "<Figure size 432x288 with 1 Axes>"
            ]
          },
          "metadata": {
            "needs_background": "light"
          }
        }
      ]
    },
    {
      "cell_type": "code",
      "metadata": {
        "colab": {
          "base_uri": "https://localhost:8080/"
        },
        "id": "ZXDmeZxFMTKz",
        "outputId": "ee4c437a-2039-452d-fc92-2e8f82ec3975"
      },
      "source": [
        "predict_train_3 = np.dot(X_train_3, w_3)\n",
        "mse_train_3 = cal_mse(X_train_3, y_train, predict_train_3)\n",
        "mse_train_3"
      ],
      "execution_count": 29,
      "outputs": [
        {
          "output_type": "execute_result",
          "data": {
            "text/plain": [
              "0.22944536430727128"
            ]
          },
          "metadata": {},
          "execution_count": 29
        }
      ]
    },
    {
      "cell_type": "code",
      "metadata": {
        "colab": {
          "base_uri": "https://localhost:8080/"
        },
        "id": "YHxq8zkwMWr0",
        "outputId": "2f8f396d-8a38-47db-dac7-bc0802912561"
      },
      "source": [
        "i =np.ones(len(x_val)).reshape(-1,1)\n",
        "X_val_3 = np.concatenate((i, x_val.reshape(-1,1), x3.reshape(-1,1)), axis=1)\n",
        "X_val_3"
      ],
      "execution_count": 30,
      "outputs": [
        {
          "output_type": "execute_result",
          "data": {
            "text/plain": [
              "array([[ 1.00000000e+00, -1.01323162e-01,  0.00000000e+00],\n",
              "       [ 1.00000000e+00,  3.14802938e-01,  1.37174211e-03],\n",
              "       [ 1.00000000e+00,  1.08151844e+00,  1.09739369e-02],\n",
              "       [ 1.00000000e+00,  1.14274486e+00,  3.70370370e-02],\n",
              "       [ 1.00000000e+00,  1.00109592e+00,  8.77914952e-02],\n",
              "       [ 1.00000000e+00, -5.76672786e-01,  1.71467764e-01],\n",
              "       [ 1.00000000e+00, -5.28248361e-01,  2.96296296e-01],\n",
              "       [ 1.00000000e+00, -1.89332137e+00,  4.70507545e-01],\n",
              "       [ 1.00000000e+00, -7.34341880e-01,  7.02331962e-01],\n",
              "       [ 1.00000000e+00,  5.29484594e-01,  1.00000000e+00]])"
            ]
          },
          "metadata": {},
          "execution_count": 30
        }
      ]
    },
    {
      "cell_type": "code",
      "metadata": {
        "colab": {
          "base_uri": "https://localhost:8080/"
        },
        "id": "LjXQprutMY8a",
        "outputId": "393f3acc-53fe-4e3e-d91f-2e7d35c88cb7"
      },
      "source": [
        "predict_val_3 = np.dot(X_val_3, w_3)\n",
        "mse_val_3 = cal_mse(X_val_3, y_val, predict_val_3)\n",
        "mse_val_3"
      ],
      "execution_count": 31,
      "outputs": [
        {
          "output_type": "execute_result",
          "data": {
            "text/plain": [
              "1.702048245688233"
            ]
          },
          "metadata": {},
          "execution_count": 31
        }
      ]
    },
    {
      "cell_type": "code",
      "metadata": {
        "colab": {
          "base_uri": "https://localhost:8080/",
          "height": 265
        },
        "id": "jo7ejvYzMbz_",
        "outputId": "2be8e531-9c9f-41cd-9ac1-c5336b689b72"
      },
      "source": [
        "# w_3 = cal_w(X_val_3, y_val)\n",
        "plt.plot(x_val, predict_val_3)\n",
        "plt.scatter(x_val, y_val)\n",
        "plt.show()"
      ],
      "execution_count": 32,
      "outputs": [
        {
          "output_type": "display_data",
          "data": {
            "image/png": "[encoded data removed]",
            "text/plain": [
              "<Figure size 432x288 with 1 Axes>"
            ]
          },
          "metadata": {
            "needs_background": "light"
          }
        }
      ]
    },
    {
      "cell_type": "code",
      "metadata": {
        "colab": {
          "base_uri": "https://localhost:8080/"
        },
        "id": "HaIp9xtNMfkf",
        "outputId": "f41a1aaf-2bb1-4594-bae5-197c9257df07"
      },
      "source": [
        "w_3"
      ],
      "execution_count": 34,
      "outputs": [
        {
          "output_type": "execute_result",
          "data": {
            "text/plain": [
              "array([ 0.73293474, -1.3894342 , -0.26689864])"
            ]
          },
          "metadata": {},
          "execution_count": 34
        }
      ]
    },
    {
      "cell_type": "code",
      "metadata": {
        "colab": {
          "base_uri": "https://localhost:8080/"
        },
        "id": "MXnyEMuHMjDN",
        "outputId": "de6d78ed-db14-44b7-9dd2-98d5548d7f82"
      },
      "source": [
        "x9 = np.power(x_train,9)\n",
        "x9"
      ],
      "execution_count": 35,
      "outputs": [
        {
          "output_type": "execute_result",
          "data": {
            "text/plain": [
              "array([0.00000000e+00, 2.58117479e-09, 1.32156149e-06, 5.08052634e-05,\n",
              "       6.76639485e-04, 5.04135702e-03, 2.60122949e-02, 1.04159713e-01,\n",
              "       3.46439416e-01, 1.00000000e+00])"
            ]
          },
          "metadata": {},
          "execution_count": 35
        }
      ]
    },
    {
      "cell_type": "code",
      "metadata": {
        "colab": {
          "base_uri": "https://localhost:8080/"
        },
        "id": "4xQezurAMoC-",
        "outputId": "80c906ea-0d8e-4775-fd4e-123506b318cb"
      },
      "source": [
        "i =np.ones(len(x_train)).reshape(-1,1)\n",
        "X_train_9 = np.concatenate((i, x_train.reshape(-1,1),x3.reshape(-1,1), x9.reshape(-1,1)), axis=1)\n",
        "X_train_9"
      ],
      "execution_count": 36,
      "outputs": [
        {
          "output_type": "execute_result",
          "data": {
            "text/plain": [
              "array([[1.00000000e+00, 0.00000000e+00, 0.00000000e+00, 0.00000000e+00],\n",
              "       [1.00000000e+00, 1.11111111e-01, 1.37174211e-03, 2.58117479e-09],\n",
              "       [1.00000000e+00, 2.22222222e-01, 1.09739369e-02, 1.32156149e-06],\n",
              "       [1.00000000e+00, 3.33333333e-01, 3.70370370e-02, 5.08052634e-05],\n",
              "       [1.00000000e+00, 4.44444444e-01, 8.77914952e-02, 6.76639485e-04],\n",
              "       [1.00000000e+00, 5.55555556e-01, 1.71467764e-01, 5.04135702e-03],\n",
              "       [1.00000000e+00, 6.66666667e-01, 2.96296296e-01, 2.60122949e-02],\n",
              "       [1.00000000e+00, 7.77777778e-01, 4.70507545e-01, 1.04159713e-01],\n",
              "       [1.00000000e+00, 8.88888889e-01, 7.02331962e-01, 3.46439416e-01],\n",
              "       [1.00000000e+00, 1.00000000e+00, 1.00000000e+00, 1.00000000e+00]])"
            ]
          },
          "metadata": {},
          "execution_count": 36
        }
      ]
    },
    {
      "cell_type": "code",
      "metadata": {
        "colab": {
          "base_uri": "https://localhost:8080/",
          "height": 265
        },
        "id": "DzY7xXcKMrB5",
        "outputId": "8dbb6632-7bae-43f1-8e6d-76e99928703b"
      },
      "source": [
        "w_9 = cal_w(X_train_9, y_train)\n",
        "plt.plot(x_train, np.dot(X_train_9, w_9))\n",
        "plt.scatter(x_train, y_train)\n",
        "plt.show()"
      ],
      "execution_count": 37,
      "outputs": [
        {
          "output_type": "display_data",
          "data": {
            "image/png": "[encoded data removed]",
            "text/plain": [
              "<Figure size 432x288 with 1 Axes>"
            ]
          },
          "metadata": {
            "needs_background": "light"
          }
        }
      ]
    },
    {
      "cell_type": "code",
      "metadata": {
        "colab": {
          "base_uri": "https://localhost:8080/"
        },
        "id": "bMhfP6rWMtoG",
        "outputId": "cd6457da-12e6-443f-badc-1559c810304a"
      },
      "source": [
        "predict_train_9 = np.dot(X_train_9, w_9)\n",
        "mse_train_9 = cal_mse(X_train_9, y_train, predict_train_9)\n",
        "mse_train_9"
      ],
      "execution_count": 38,
      "outputs": [
        {
          "output_type": "execute_result",
          "data": {
            "text/plain": [
              "0.1307773114330397"
            ]
          },
          "metadata": {},
          "execution_count": 38
        }
      ]
    },
    {
      "cell_type": "code",
      "metadata": {
        "colab": {
          "base_uri": "https://localhost:8080/"
        },
        "id": "z9PnvWU6Mv9v",
        "outputId": "1e7fbc7b-6571-49dc-ef48-513937ce684d"
      },
      "source": [
        "i =np.ones(len(x_val)).reshape(-1,1)\n",
        "X_val_9 = np.concatenate((i, x_val.reshape(-1,1), x3.reshape(-1,1), x9.reshape(-1,1)), axis=1)\n",
        "X_val_9"
      ],
      "execution_count": 39,
      "outputs": [
        {
          "output_type": "execute_result",
          "data": {
            "text/plain": [
              "array([[ 1.00000000e+00, -1.01323162e-01,  0.00000000e+00,\n",
              "         0.00000000e+00],\n",
              "       [ 1.00000000e+00,  3.14802938e-01,  1.37174211e-03,\n",
              "         2.58117479e-09],\n",
              "       [ 1.00000000e+00,  1.08151844e+00,  1.09739369e-02,\n",
              "         1.32156149e-06],\n",
              "       [ 1.00000000e+00,  1.14274486e+00,  3.70370370e-02,\n",
              "         5.08052634e-05],\n",
              "       [ 1.00000000e+00,  1.00109592e+00,  8.77914952e-02,\n",
              "         6.76639485e-04],\n",
              "       [ 1.00000000e+00, -5.76672786e-01,  1.71467764e-01,\n",
              "         5.04135702e-03],\n",
              "       [ 1.00000000e+00, -5.28248361e-01,  2.96296296e-01,\n",
              "         2.60122949e-02],\n",
              "       [ 1.00000000e+00, -1.89332137e+00,  4.70507545e-01,\n",
              "         1.04159713e-01],\n",
              "       [ 1.00000000e+00, -7.34341880e-01,  7.02331962e-01,\n",
              "         3.46439416e-01],\n",
              "       [ 1.00000000e+00,  5.29484594e-01,  1.00000000e+00,\n",
              "         1.00000000e+00]])"
            ]
          },
          "metadata": {},
          "execution_count": 39
        }
      ]
    },
    {
      "cell_type": "code",
      "metadata": {
        "colab": {
          "base_uri": "https://localhost:8080/"
        },
        "id": "UbHkNYZQMyhH",
        "outputId": "aafd3d8c-b6a0-4df2-a899-7b0cee4ac11b"
      },
      "source": [
        "predict_val_9 = np.dot(X_val_9, w_9)\n",
        "mse_val_9 = cal_mse(X_val_9, y_val, predict_val_9)\n",
        "mse_val_9"
      ],
      "execution_count": 40,
      "outputs": [
        {
          "output_type": "execute_result",
          "data": {
            "text/plain": [
              "3.3248683311710923"
            ]
          },
          "metadata": {},
          "execution_count": 40
        }
      ]
    },
    {
      "cell_type": "code",
      "metadata": {
        "id": "36S5xr76M1ld"
      },
      "source": [
        "def cal_w(X, y):\n",
        "  a = np.dot(X.T, X)\n",
        "  b = np.dot(X.T, y)\n",
        "  w = np.dot(np.linalg.pinv(a), b)\n",
        "  return w\n",
        "\n",
        "def plot(x_train_, y_train_):\n",
        "  w = cal_w(x_train_, y_train_)\n",
        "  plt.plot(x_train_, np.dot(x_train_, w))\n",
        "  plt.scatter(x_train_, y_train_)\n",
        "  plt.show()\n",
        "\n",
        "def cal_mse(x, y, predict):\n",
        "  return 1/len(x) * np.sum((predict - y)**2)"
      ],
      "execution_count": 41,
      "outputs": []
    },
    {
      "cell_type": "code",
      "metadata": {
        "colab": {
          "base_uri": "https://localhost:8080/"
        },
        "id": "VyVy_LoGM4K2",
        "outputId": "00f10d68-b61f-4846-dc44-058e9aa0da41"
      },
      "source": [
        "i =np.ones(len(x_val)).reshape(-1,1)\n",
        "X_val_9 = np.concatenate((i, x_val.reshape(-1,1),x3.reshape(-1,1), x9.reshape(-1,1)), axis=1)\n",
        "X_val_9"
      ],
      "execution_count": 42,
      "outputs": [
        {
          "output_type": "execute_result",
          "data": {
            "text/plain": [
              "array([[ 1.00000000e+00, -1.01323162e-01,  0.00000000e+00,\n",
              "         0.00000000e+00],\n",
              "       [ 1.00000000e+00,  3.14802938e-01,  1.37174211e-03,\n",
              "         2.58117479e-09],\n",
              "       [ 1.00000000e+00,  1.08151844e+00,  1.09739369e-02,\n",
              "         1.32156149e-06],\n",
              "       [ 1.00000000e+00,  1.14274486e+00,  3.70370370e-02,\n",
              "         5.08052634e-05],\n",
              "       [ 1.00000000e+00,  1.00109592e+00,  8.77914952e-02,\n",
              "         6.76639485e-04],\n",
              "       [ 1.00000000e+00, -5.76672786e-01,  1.71467764e-01,\n",
              "         5.04135702e-03],\n",
              "       [ 1.00000000e+00, -5.28248361e-01,  2.96296296e-01,\n",
              "         2.60122949e-02],\n",
              "       [ 1.00000000e+00, -1.89332137e+00,  4.70507545e-01,\n",
              "         1.04159713e-01],\n",
              "       [ 1.00000000e+00, -7.34341880e-01,  7.02331962e-01,\n",
              "         3.46439416e-01],\n",
              "       [ 1.00000000e+00,  5.29484594e-01,  1.00000000e+00,\n",
              "         1.00000000e+00]])"
            ]
          },
          "metadata": {},
          "execution_count": 42
        }
      ]
    },
    {
      "cell_type": "code",
      "metadata": {
        "colab": {
          "base_uri": "https://localhost:8080/"
        },
        "id": "qjwHtVYhM6Vj",
        "outputId": "f4fb46e3-368b-45d8-9265-6ea38c849008"
      },
      "source": [
        "print('bậc 1: mse_train = {}, mse_val = {}'.format(mse_1, mse_val_1))\n",
        "print('bậc 3: mse_train = {}, mse_val = {}'.format(mse_train_3, mse_val_3))\n",
        "print('bậc 9: mse_train = {}, mse_val = {}'.format(mse_train_9, mse_val_9))"
      ],
      "execution_count": 44,
      "outputs": [
        {
          "output_type": "stream",
          "name": "stdout",
          "text": [
            "bậc 1: mse_train = 0.23077661663788357, mse_val = 2.463607600614156\n",
            "bậc 3: mse_train = 0.22944536430727128, mse_val = 1.702048245688233\n",
            "bậc 9: mse_train = 0.1307773114330397, mse_val = 3.3248683311710923\n"
          ]
        }
      ]
    }
  ]
}