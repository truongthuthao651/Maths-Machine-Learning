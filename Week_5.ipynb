{
  "nbformat": 4,
  "nbformat_minor": 0,
  "metadata": {
    "colab": {
      "name": "Week 5.ipynb",
      "provenance": []
    },
    "kernelspec": {
      "name": "python3",
      "display_name": "Python 3"
    },
    "language_info": {
      "name": "python"
    }
  },
  "cells": [
    {
      "cell_type": "code",
      "metadata": {
        "id": "UZk_vxjGB1TD"
      },
      "source": [
        "import numpy as np\n",
        "import matplotlib.pyplot as plt\n",
        "%matplotlib inline\n",
        "\n",
        "from numpy.linalg import inv\n",
        "import pandas as pd\n",
        "np.random.seed(1234)"
      ],
      "execution_count": 1,
      "outputs": []
    },
    {
      "cell_type": "code",
      "metadata": {
        "colab": {
          "base_uri": "https://localhost:8080/",
          "height": 265
        },
        "id": "F60arsmyCDlr",
        "outputId": "54a66621-c850-431a-f063-0c232a1b2b81"
      },
      "source": [
        "def create_toy_data(func, sample_size, std):\n",
        "    x = np.linspace(0, 1, sample_size)\n",
        "    t = func(x) + np.random.normal(scale=std, size=x.shape)\n",
        "    return x, t\n",
        "\n",
        "def func(x):\n",
        "    return np.sin(2 * np.pi * x)\n",
        "\n",
        "x_train, y_train = create_toy_data(func, 10, 0.25)\n",
        "x_test = np.linspace(0, 1, 100)\n",
        "y_test = func(x_test)\n",
        "\n",
        "x_val, y_val = create_toy_data(func, 10, 0.25)\n",
        "\n",
        "plt.scatter(x_train, y_train, facecolor=\"none\", edgecolor=\"b\", s=50, label=\"training data\")\n",
        "plt.scatter(x_val, y_val, facecolor=\"none\", edgecolor=\"r\", s=50, label=\"val data\")\n",
        "\n",
        "plt.plot(x_test, y_test, c=\"g\", label=\"$\\sin(2\\pi x)$\")\n",
        "plt.legend()\n",
        "plt.show()"
      ],
      "execution_count": 2,
      "outputs": [
        {
          "output_type": "display_data",
          "data": {
            "image/png": "[encoded data removed]",
            "text/plain": [
              "<Figure size 432x288 with 1 Axes>"
            ]
          },
          "metadata": {
            "needs_background": "light"
          }
        }
      ]
    },
    {
      "cell_type": "code",
      "metadata": {
        "id": "q0WU6TnkCGoG"
      },
      "source": [
        "class LinearRegression:\n",
        "    def __init__(self, df, target):\n",
        "        self.df = df\n",
        "        self.target = target\n",
        "\n",
        "    def find_coefficient(self):\n",
        "        t = np.array(self.df[self.target]).reshape(self.df.shape[0],1)\n",
        "        feature = np.array(self.df.loc[:, self.df.columns != self.target]).reshape(self.df.shape[0], self.df.shape[1]-1)\n",
        "        x = np.concatenate((np.ones((self.df.shape[0], 1)), feature), axis= 1)\n",
        "        w = np.array(inv(x.T.dot(x)).dot(x.T).dot(t)).reshape(feature.shape[1]+1, 1)\n",
        "        return w\n",
        "\n",
        "    def add_predict_column(self):\n",
        "        newdf = self.df.copy()\n",
        "        feature = np.array(self.df.loc[:, self.df.columns != self.target]).reshape(self.df.shape[0], self.df.shape[1]-1)\n",
        "        w = self.find_coefficient()\n",
        "        newdf['predict'] = feature.dot(w[1:,]) + w[0]\n",
        "        return newdf\n",
        "    def mse(self):\n",
        "        newdf = self.add_predict_column()\n",
        "        return np.mean((newdf['predict'] - newdf[self.target]) ** 2)\n",
        "\n",
        "    def predict_value(self, list1):\n",
        "        array = np.array(list1).reshape(1,len(list1))\n",
        "        w = self.find_coefficient()\n",
        "        return array.dot(w[1:,]) + w[0]\n",
        "\n",
        "    def print_model(self):\n",
        "        feature = (self.df.loc[:, self.df.columns != self.target])\n",
        "        w = self.find_coefficient()\n",
        "        print('y =', end=' ')\n",
        "        for i in range(1, len(w)):\n",
        "            print(round(float(w[i][0]),2), feature.columns[i-1], '+', end=' ')\n",
        "        print(round(float(w[0][0]),2))"
      ],
      "execution_count": 3,
      "outputs": []
    },
    {
      "cell_type": "code",
      "metadata": {
        "colab": {
          "base_uri": "https://localhost:8080/",
          "height": 202
        },
        "id": "GJobW_LTCLXI",
        "outputId": "0905e382-b822-4833-a189-b4e8509d3aff"
      },
      "source": [
        "dict1 = {'x_train':x_train, 'y_train' :y_train}\n",
        "train_df = pd.DataFrame(dict1)\n",
        "train_df.head()"
      ],
      "execution_count": 4,
      "outputs": [
        {
          "output_type": "execute_result",
          "data": {
            "text/html": [
              "<div>\n",
              "<style scoped>\n",
              "    .dataframe tbody tr th:only-of-type {\n",
              "        vertical-align: middle;\n",
              "    }\n",
              "\n",
              "    .dataframe tbody tr th {\n",
              "        vertical-align: top;\n",
              "    }\n",
              "\n",
              "    .dataframe thead th {\n",
              "        text-align: right;\n",
              "    }\n",
              "</style>\n",
              "<table border=\"1\" class=\"dataframe\">\n",
              "  <thead>\n",
              "    <tr style=\"text-align: right;\">\n",
              "      <th></th>\n",
              "      <th>x_train</th>\n",
              "      <th>y_train</th>\n",
              "    </tr>\n",
              "  </thead>\n",
              "  <tbody>\n",
              "    <tr>\n",
              "      <th>0</th>\n",
              "      <td>0.000000</td>\n",
              "      <td>0.117859</td>\n",
              "    </tr>\n",
              "    <tr>\n",
              "      <th>1</th>\n",
              "      <td>0.111111</td>\n",
              "      <td>0.345044</td>\n",
              "    </tr>\n",
              "    <tr>\n",
              "      <th>2</th>\n",
              "      <td>0.222222</td>\n",
              "      <td>1.342984</td>\n",
              "    </tr>\n",
              "    <tr>\n",
              "      <th>3</th>\n",
              "      <td>0.333333</td>\n",
              "      <td>0.787862</td>\n",
              "    </tr>\n",
              "    <tr>\n",
              "      <th>4</th>\n",
              "      <td>0.444444</td>\n",
              "      <td>0.161873</td>\n",
              "    </tr>\n",
              "  </tbody>\n",
              "</table>\n",
              "</div>"
            ],
            "text/plain": [
              "    x_train   y_train\n",
              "0  0.000000  0.117859\n",
              "1  0.111111  0.345044\n",
              "2  0.222222  1.342984\n",
              "3  0.333333  0.787862\n",
              "4  0.444444  0.161873"
            ]
          },
          "metadata": {},
          "execution_count": 4
        }
      ]
    },
    {
      "cell_type": "code",
      "metadata": {
        "colab": {
          "base_uri": "https://localhost:8080/",
          "height": 202
        },
        "id": "X3FYFq7HCPyy",
        "outputId": "dea0cd99-e484-476c-9c24-cfb9be82cd22"
      },
      "source": [
        "dict2 = {'x_val':x_val, 'y_val' :y_val}\n",
        "val_df = pd.DataFrame(dict2)\n",
        "val_df.head()"
      ],
      "execution_count": 5,
      "outputs": [
        {
          "output_type": "execute_result",
          "data": {
            "text/html": [
              "<div>\n",
              "<style scoped>\n",
              "    .dataframe tbody tr th:only-of-type {\n",
              "        vertical-align: middle;\n",
              "    }\n",
              "\n",
              "    .dataframe tbody tr th {\n",
              "        vertical-align: top;\n",
              "    }\n",
              "\n",
              "    .dataframe thead th {\n",
              "        text-align: right;\n",
              "    }\n",
              "</style>\n",
              "<table border=\"1\" class=\"dataframe\">\n",
              "  <thead>\n",
              "    <tr style=\"text-align: right;\">\n",
              "      <th></th>\n",
              "      <th>x_val</th>\n",
              "      <th>y_val</th>\n",
              "    </tr>\n",
              "  </thead>\n",
              "  <tbody>\n",
              "    <tr>\n",
              "      <th>0</th>\n",
              "      <td>0.000000</td>\n",
              "      <td>0.287509</td>\n",
              "    </tr>\n",
              "    <tr>\n",
              "      <th>1</th>\n",
              "      <td>0.111111</td>\n",
              "      <td>0.890774</td>\n",
              "    </tr>\n",
              "    <tr>\n",
              "      <th>2</th>\n",
              "      <td>0.222222</td>\n",
              "      <td>1.223139</td>\n",
              "    </tr>\n",
              "    <tr>\n",
              "      <th>3</th>\n",
              "      <td>0.333333</td>\n",
              "      <td>0.360712</td>\n",
              "    </tr>\n",
              "    <tr>\n",
              "      <th>4</th>\n",
              "      <td>0.444444</td>\n",
              "      <td>0.258501</td>\n",
              "    </tr>\n",
              "  </tbody>\n",
              "</table>\n",
              "</div>"
            ],
            "text/plain": [
              "      x_val     y_val\n",
              "0  0.000000  0.287509\n",
              "1  0.111111  0.890774\n",
              "2  0.222222  1.223139\n",
              "3  0.333333  0.360712\n",
              "4  0.444444  0.258501"
            ]
          },
          "metadata": {},
          "execution_count": 5
        }
      ]
    },
    {
      "cell_type": "code",
      "metadata": {
        "colab": {
          "base_uri": "https://localhost:8080/",
          "height": 202
        },
        "id": "nAjClXjMCU84",
        "outputId": "8bcb5e98-8eea-4729-c93e-69610929652b"
      },
      "source": [
        "dict3 = {'x_test':x_test, 'y_test' :y_test}\n",
        "test_df = pd.DataFrame(dict3)\n",
        "test_df.head()"
      ],
      "execution_count": 6,
      "outputs": [
        {
          "output_type": "execute_result",
          "data": {
            "text/html": [
              "<div>\n",
              "<style scoped>\n",
              "    .dataframe tbody tr th:only-of-type {\n",
              "        vertical-align: middle;\n",
              "    }\n",
              "\n",
              "    .dataframe tbody tr th {\n",
              "        vertical-align: top;\n",
              "    }\n",
              "\n",
              "    .dataframe thead th {\n",
              "        text-align: right;\n",
              "    }\n",
              "</style>\n",
              "<table border=\"1\" class=\"dataframe\">\n",
              "  <thead>\n",
              "    <tr style=\"text-align: right;\">\n",
              "      <th></th>\n",
              "      <th>x_test</th>\n",
              "      <th>y_test</th>\n",
              "    </tr>\n",
              "  </thead>\n",
              "  <tbody>\n",
              "    <tr>\n",
              "      <th>0</th>\n",
              "      <td>0.000000</td>\n",
              "      <td>0.000000</td>\n",
              "    </tr>\n",
              "    <tr>\n",
              "      <th>1</th>\n",
              "      <td>0.010101</td>\n",
              "      <td>0.063424</td>\n",
              "    </tr>\n",
              "    <tr>\n",
              "      <th>2</th>\n",
              "      <td>0.020202</td>\n",
              "      <td>0.126592</td>\n",
              "    </tr>\n",
              "    <tr>\n",
              "      <th>3</th>\n",
              "      <td>0.030303</td>\n",
              "      <td>0.189251</td>\n",
              "    </tr>\n",
              "    <tr>\n",
              "      <th>4</th>\n",
              "      <td>0.040404</td>\n",
              "      <td>0.251148</td>\n",
              "    </tr>\n",
              "  </tbody>\n",
              "</table>\n",
              "</div>"
            ],
            "text/plain": [
              "     x_test    y_test\n",
              "0  0.000000  0.000000\n",
              "1  0.010101  0.063424\n",
              "2  0.020202  0.126592\n",
              "3  0.030303  0.189251\n",
              "4  0.040404  0.251148"
            ]
          },
          "metadata": {},
          "execution_count": 6
        }
      ]
    },
    {
      "cell_type": "code",
      "metadata": {
        "colab": {
          "base_uri": "https://localhost:8080/",
          "height": 202
        },
        "id": "ePZxg9u9CXcQ",
        "outputId": "5bc646f6-8e50-4c79-9ab8-7226f2d3694f"
      },
      "source": [
        "# bac 9\n",
        "train_df9 = train_df.copy()\n",
        "train_df9['x^2'] = x_train ** 2\n",
        "train_df9['x^3'] = x_train ** 3\n",
        "train_df9['x^4'] = x_train ** 4\n",
        "train_df9['x^5'] = x_train ** 5\n",
        "train_df9['x^6'] = x_train ** 6\n",
        "train_df9['x^7'] = x_train ** 7\n",
        "train_df9['x^8'] = x_train ** 8\n",
        "train_df9['x^9'] = x_train ** 9\n",
        "\n",
        "train_df9.head()"
      ],
      "execution_count": 7,
      "outputs": [
        {
          "output_type": "execute_result",
          "data": {
            "text/html": [
              "<div>\n",
              "<style scoped>\n",
              "    .dataframe tbody tr th:only-of-type {\n",
              "        vertical-align: middle;\n",
              "    }\n",
              "\n",
              "    .dataframe tbody tr th {\n",
              "        vertical-align: top;\n",
              "    }\n",
              "\n",
              "    .dataframe thead th {\n",
              "        text-align: right;\n",
              "    }\n",
              "</style>\n",
              "<table border=\"1\" class=\"dataframe\">\n",
              "  <thead>\n",
              "    <tr style=\"text-align: right;\">\n",
              "      <th></th>\n",
              "      <th>x_train</th>\n",
              "      <th>y_train</th>\n",
              "      <th>x^2</th>\n",
              "      <th>x^3</th>\n",
              "      <th>x^4</th>\n",
              "      <th>x^5</th>\n",
              "      <th>x^6</th>\n",
              "      <th>x^7</th>\n",
              "      <th>x^8</th>\n",
              "      <th>x^9</th>\n",
              "    </tr>\n",
              "  </thead>\n",
              "  <tbody>\n",
              "    <tr>\n",
              "      <th>0</th>\n",
              "      <td>0.000000</td>\n",
              "      <td>0.117859</td>\n",
              "      <td>0.000000</td>\n",
              "      <td>0.000000</td>\n",
              "      <td>0.000000</td>\n",
              "      <td>0.000000</td>\n",
              "      <td>0.000000</td>\n",
              "      <td>0.000000e+00</td>\n",
              "      <td>0.000000e+00</td>\n",
              "      <td>0.000000e+00</td>\n",
              "    </tr>\n",
              "    <tr>\n",
              "      <th>1</th>\n",
              "      <td>0.111111</td>\n",
              "      <td>0.345044</td>\n",
              "      <td>0.012346</td>\n",
              "      <td>0.001372</td>\n",
              "      <td>0.000152</td>\n",
              "      <td>0.000017</td>\n",
              "      <td>0.000002</td>\n",
              "      <td>2.090752e-07</td>\n",
              "      <td>2.323057e-08</td>\n",
              "      <td>2.581175e-09</td>\n",
              "    </tr>\n",
              "    <tr>\n",
              "      <th>2</th>\n",
              "      <td>0.222222</td>\n",
              "      <td>1.342984</td>\n",
              "      <td>0.049383</td>\n",
              "      <td>0.010974</td>\n",
              "      <td>0.002439</td>\n",
              "      <td>0.000542</td>\n",
              "      <td>0.000120</td>\n",
              "      <td>2.676162e-05</td>\n",
              "      <td>5.947027e-06</td>\n",
              "      <td>1.321561e-06</td>\n",
              "    </tr>\n",
              "    <tr>\n",
              "      <th>3</th>\n",
              "      <td>0.333333</td>\n",
              "      <td>0.787862</td>\n",
              "      <td>0.111111</td>\n",
              "      <td>0.037037</td>\n",
              "      <td>0.012346</td>\n",
              "      <td>0.004115</td>\n",
              "      <td>0.001372</td>\n",
              "      <td>4.572474e-04</td>\n",
              "      <td>1.524158e-04</td>\n",
              "      <td>5.080526e-05</td>\n",
              "    </tr>\n",
              "    <tr>\n",
              "      <th>4</th>\n",
              "      <td>0.444444</td>\n",
              "      <td>0.161873</td>\n",
              "      <td>0.197531</td>\n",
              "      <td>0.087791</td>\n",
              "      <td>0.039018</td>\n",
              "      <td>0.017342</td>\n",
              "      <td>0.007707</td>\n",
              "      <td>3.425487e-03</td>\n",
              "      <td>1.522439e-03</td>\n",
              "      <td>6.766395e-04</td>\n",
              "    </tr>\n",
              "  </tbody>\n",
              "</table>\n",
              "</div>"
            ],
            "text/plain": [
              "    x_train   y_train       x^2  ...           x^7           x^8           x^9\n",
              "0  0.000000  0.117859  0.000000  ...  0.000000e+00  0.000000e+00  0.000000e+00\n",
              "1  0.111111  0.345044  0.012346  ...  2.090752e-07  2.323057e-08  2.581175e-09\n",
              "2  0.222222  1.342984  0.049383  ...  2.676162e-05  5.947027e-06  1.321561e-06\n",
              "3  0.333333  0.787862  0.111111  ...  4.572474e-04  1.524158e-04  5.080526e-05\n",
              "4  0.444444  0.161873  0.197531  ...  3.425487e-03  1.522439e-03  6.766395e-04\n",
              "\n",
              "[5 rows x 10 columns]"
            ]
          },
          "metadata": {},
          "execution_count": 7
        }
      ]
    },
    {
      "cell_type": "code",
      "metadata": {
        "colab": {
          "base_uri": "https://localhost:8080/"
        },
        "id": "1AS7n5cFCamo",
        "outputId": "c384dec8-5f7a-476d-ebc6-2245bb2be5ff"
      },
      "source": [
        "model9 = LinearRegression(train_df9,'y_train')\n",
        "print(model9.find_coefficient())\n",
        "model9.print_model()"
      ],
      "execution_count": 8,
      "outputs": [
        {
          "output_type": "stream",
          "name": "stdout",
          "text": [
            "[[ 1.18058317e-01]\n",
            " [-3.22288205e+01]\n",
            " [ 5.52497345e+02]\n",
            " [-2.72786818e+03]\n",
            " [ 4.75952520e+03]\n",
            " [ 2.04005682e+03]\n",
            " [-1.93737482e+04]\n",
            " [ 2.83961336e+04]\n",
            " [-1.78633565e+04]\n",
            " [ 4.24830973e+03]]\n",
            "y = -32.23 x_train + 552.5 x^2 + -2727.87 x^3 + 4759.53 x^4 + 2040.06 x^5 + -19373.75 x^6 + 28396.13 x^7 + -17863.36 x^8 + 4248.31 x^9 + 0.12\n"
          ]
        }
      ]
    },
    {
      "cell_type": "code",
      "metadata": {
        "id": "YwlglGD6CdER"
      },
      "source": [
        "w9= model9.find_coefficient()\n",
        "x9 = np.linspace(0,1,100)\n",
        "y9 = w9[1]*x9 + w9[2]*x9**2 + w9[3]*x9**3 + w9[4]*x9**4 + w9[5]*x9**5 + w9[6]*x9**6  + w9[7]*x9**7 + w9[8]*x9**8 + w9[9]*x9**9 + w9[0]"
      ],
      "execution_count": 9,
      "outputs": []
    },
    {
      "cell_type": "code",
      "metadata": {
        "colab": {
          "base_uri": "https://localhost:8080/",
          "height": 281
        },
        "id": "IOHqJupGCgd0",
        "outputId": "8df32ce4-126d-4c7b-fae4-847b9658c4eb"
      },
      "source": [
        "model9_predict = model9.add_predict_column()\n",
        "plt.scatter(x_train,y_train, facecolor=\"none\", edgecolor=\"b\", s=50, label=\"val data\")\n",
        "plt.scatter(x_val, y_val, facecolor=\"none\", edgecolor=\"r\", s=50, label=\"val data\")\n",
        "plt.plot(x9, y9,'g')"
      ],
      "execution_count": 10,
      "outputs": [
        {
          "output_type": "execute_result",
          "data": {
            "text/plain": [
              "[<matplotlib.lines.Line2D at 0x7fce37d3b910>]"
            ]
          },
          "metadata": {},
          "execution_count": 10
        },
        {
          "output_type": "display_data",
          "data": {
            "image/png": "[encoded data removed]",
            "text/plain": [
              "<Figure size 432x288 with 1 Axes>"
            ]
          },
          "metadata": {
            "needs_background": "light"
          }
        }
      ]
    },
    {
      "cell_type": "code",
      "metadata": {
        "id": "b37cJ3mlCjC1"
      },
      "source": [
        "def mse(truth, predict):\n",
        "    truth = np.array(truth)\n",
        "    predict = np.array(predict)\n",
        "    return np.mean((truth - predict) ** 2)"
      ],
      "execution_count": 11,
      "outputs": []
    },
    {
      "cell_type": "code",
      "metadata": {
        "colab": {
          "base_uri": "https://localhost:8080/"
        },
        "id": "GJfz1vi3Cl3c",
        "outputId": "d488ee1a-1a57-4f47-c6d5-96f9d06b37ed"
      },
      "source": [
        "print('MSE Training:',mse(y_train, model9_predict.predict))\n",
        "print('MSE Validation:',mse(y_val, model9_predict.predict))"
      ],
      "execution_count": 12,
      "outputs": [
        {
          "output_type": "stream",
          "name": "stdout",
          "text": [
            "MSE Training: 2.1096325143732538e-08\n",
            "MSE Validation: 0.07850059317862015\n"
          ]
        }
      ]
    },
    {
      "cell_type": "code",
      "metadata": {
        "id": "QCG65M_FCo3H"
      },
      "source": [
        "### L2:\n",
        "def L2(X, y, alpha, lamda_value, interations):\n",
        "  m = X.shape[0]\n",
        "  n = X.shape[1]\n",
        "  X = np.concatenate((np.ones(X.shape[0], 1), X), axis = 1)\n",
        "  w = np.random.rand(n+1, )\n",
        "  J_hist = []\n",
        "  w_hist = []\n",
        "  for i in interations:\n",
        "    y_hat = np.dot(X, w)\n",
        "    e = y_hat - y\n",
        "    l2 = (1/ 2* m) * np.sum(e ** 2) + lambda_value * np.sum(w ** 2)\n",
        "    J_hist.append(l2)\n",
        "    w_1  =np.linalg.pinv(np.dot(X.T, X) + lambda_value * I) \n",
        "    w_2 = np.dot(X.T, y)\n",
        "    w = np.dot(w_1,w_2)\n",
        "    w_hist.append(w)\n",
        "  return w_hist, J_hist"
      ],
      "execution_count": 13,
      "outputs": []
    }
  ]
}